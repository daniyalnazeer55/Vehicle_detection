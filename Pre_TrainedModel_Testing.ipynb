{
 "cells": [
  {
   "cell_type": "code",
   "execution_count": 1,
   "id": "289f9819-309e-40d4-afb7-f57ef4abbfb1",
   "metadata": {},
   "outputs": [],
   "source": [
    "from ultralytics import YOLO"
   ]
  },
  {
   "cell_type": "code",
   "execution_count": 6,
   "id": "470cd906-80da-4453-a257-1c362b4e1fa2",
   "metadata": {},
   "outputs": [],
   "source": [
    "model = YOLO(\"Weights/yolov8n.pt\")"
   ]
  },
  {
   "cell_type": "code",
   "execution_count": 3,
   "id": "00e8e076-3f48-4cc1-b2ee-c678893bd2a1",
   "metadata": {},
   "outputs": [],
   "source": [
    "import math\n",
    "import cv2\n",
    "import cvzone\n",
    "import numpy as np\n",
    "from matplotlib import pyplot as plt"
   ]
  },
  {
   "cell_type": "code",
   "execution_count": null,
   "id": "5fac6ee3-1d12-41e5-ad36-0217a565d775",
   "metadata": {},
   "outputs": [],
   "source": [
    "cap = cv2.VideoCapture(0)\n",
    "cap.set(cv2.CAP_PROP_FRAME_WIDTH, 1280) \n",
    "cap.set(cv2.CAP_PROP_FRAME_HEIGHT, 720)\n",
    "\n",
    "classNames = [\"person\", \"bicycle\", \"car\", \"motorbike\", \"aeroplane\", \"bus\", \"train\", \"truck\", \"boat\",\n",
    "              \"traffic light\", \"fire hydrant\", \"stop sign\", \"parking meter\", \"bench\", \"bird\", \"cat\",\n",
    "              \"dog\", \"horse\", \"sheep\", \"cow\", \"elephant\", \"bear\", \"zebra\", \"giraffe\", \"backpack\", \"umbrella\",\n",
    "              \"handbag\", \"tie\", \"suitcase\", \"frisbee\", \"skis\", \"snowboard\", \"sports ball\", \"kite\", \"baseball bat\",\n",
    "              \"baseball glove\", \"skateboard\", \"surfboard\", \"tennis racket\", \"bottle\", \"wine glass\", \"cup\",\n",
    "              \"fork\", \"knife\", \"spoon\", \"bowl\", \"banana\", \"apple\", \"sandwich\", \"orange\", \"broccoli\",\n",
    "              \"carrot\", \"hot dog\", \"pizza\", \"donut\", \"cake\", \"chair\", \"sofa\", \"pottedplant\", \"bed\",\n",
    "              \"diningtable\", \"toilet\", \"tvmonitor\", \"laptop\", \"mouse\", \"remote\", \"keyboard\", \"cell phone\",\n",
    "              \"microwave\", \"oven\", \"toaster\", \"sink\", \"refrigerator\", \"book\", \"clock\", \"vase\", \"scissors\",\n",
    "              \"teddy bear\", \"hair drier\", \"toothbrush\"\n",
    "              ]\n",
    "\n",
    "\n",
    "while True:\n",
    "    frame, image = cap.read()\n",
    "    results = model(image, stream=True)\n",
    "    for res in results:\n",
    "        boxes = res.boxes\n",
    "        for box in boxes:\n",
    "            \n",
    "            # Bounding Box Coordinates:\n",
    "            x1, y1, x2, y2 = box.xyxy[0]\n",
    "            x1, y1, x2, y2 = int(x1), int(y1), int(x2), int(y2) \n",
    "            print(x1, y1, x2, y2)\n",
    "            \n",
    "            # Displaying the rectangel obtained from bounding boxes:\n",
    "            cv2.rectangle(image, (x1, y1), (x2, y2), (255, 255, 255), 2)\n",
    "            confidence = math.ceil((box.conf[0]*100))/100\n",
    "            print(math.ceil(confidence))\n",
    "            \n",
    "            # Displaying confidence and class name for particular bouding box:\n",
    "            classes = int(box.cls[0])\n",
    "            cvzone.putTextRect(image, f\"{confidence}% {classNames[classes]}\", (max(0, x1), max(35, y1)), scale=1, thickness=1)\n",
    "            \n",
    "            \n",
    "    cv2.imshow(\"Window\", image)\n",
    "    if cv2.waitKey(1) & 0xFF == ord('q'):\n",
    "        break\n",
    "cap.release()\n",
    "cv2.destroyAllWindows()"
   ]
  },
  {
   "cell_type": "code",
   "execution_count": 8,
   "id": "cf7348a6-735e-4d77-b2df-cae603b6fc40",
   "metadata": {},
   "outputs": [
    {
     "name": "stderr",
     "output_type": "stream",
     "text": [
      "\n",
      "0: 384x640 1 person, 2 cars, 87.1ms\n",
      "Speed: 0.0ms preprocess, 87.1ms inference, 0.0ms postprocess per image at shape (1, 3, 384, 640)\n",
      "\n",
      "0: 384x640 1 person, 2 cars, 120.4ms\n",
      "Speed: 4.1ms preprocess, 120.4ms inference, 0.0ms postprocess per image at shape (1, 3, 384, 640)\n"
     ]
    },
    {
     "name": "stdout",
     "output_type": "stream",
     "text": [
      "248 230 526 478\n",
      "1\n",
      "414 153 642 363\n",
      "1\n",
      "229 75 292 249\n",
      "1\n",
      "248 230 526 478\n",
      "1\n",
      "414 153 642 363\n",
      "1\n",
      "229 75 292 249\n",
      "1\n"
     ]
    },
    {
     "name": "stderr",
     "output_type": "stream",
     "text": [
      "\n",
      "0: 384x640 1 person, 2 cars, 101.4ms\n",
      "Speed: 2.2ms preprocess, 101.4ms inference, 0.0ms postprocess per image at shape (1, 3, 384, 640)\n",
      "\n",
      "0: 384x640 1 person, 2 cars, 94.7ms\n",
      "Speed: 1.9ms preprocess, 94.7ms inference, 0.0ms postprocess per image at shape (1, 3, 384, 640)\n",
      "\n"
     ]
    },
    {
     "name": "stdout",
     "output_type": "stream",
     "text": [
      "247 230 526 477\n",
      "1\n",
      "414 154 642 363\n",
      "1\n",
      "230 75 294 249\n",
      "1\n",
      "248 230 525 478\n",
      "1\n",
      "414 153 642 363\n",
      "1\n",
      "234 75 297 247\n",
      "1\n"
     ]
    },
    {
     "name": "stderr",
     "output_type": "stream",
     "text": [
      "0: 384x640 2 persons, 2 cars, 100.4ms\n",
      "Speed: 0.0ms preprocess, 100.4ms inference, 0.0ms postprocess per image at shape (1, 3, 384, 640)\n",
      "\n",
      "0: 384x640 1 person, 2 cars, 85.6ms\n",
      "Speed: 0.0ms preprocess, 85.6ms inference, 0.0ms postprocess per image at shape (1, 3, 384, 640)\n",
      "\n"
     ]
    },
    {
     "name": "stdout",
     "output_type": "stream",
     "text": [
      "248 230 526 478\n",
      "1\n",
      "415 154 642 363\n",
      "1\n",
      "236 73 298 248\n",
      "1\n",
      "254 76 296 246\n",
      "1\n",
      "248 230 526 478\n",
      "1\n",
      "415 153 642 363\n",
      "1\n",
      "240 72 302 246\n",
      "1\n"
     ]
    },
    {
     "name": "stderr",
     "output_type": "stream",
     "text": [
      "0: 384x640 1 person, 2 cars, 101.3ms\n",
      "Speed: 0.0ms preprocess, 101.3ms inference, 0.0ms postprocess per image at shape (1, 3, 384, 640)\n",
      "\n",
      "0: 384x640 1 person, 2 cars, 107.3ms\n",
      "Speed: 0.0ms preprocess, 107.3ms inference, 0.0ms postprocess per image at shape (1, 3, 384, 640)\n",
      "\n"
     ]
    },
    {
     "name": "stdout",
     "output_type": "stream",
     "text": [
      "248 230 526 478\n",
      "1\n",
      "414 153 642 363\n",
      "1\n",
      "244 73 302 246\n",
      "1\n",
      "248 230 525 478\n",
      "1\n",
      "415 153 642 363\n",
      "1\n",
      "246 72 304 247\n",
      "1\n"
     ]
    },
    {
     "name": "stderr",
     "output_type": "stream",
     "text": [
      "0: 384x640 1 person, 2 cars, 110.4ms\n",
      "Speed: 2.5ms preprocess, 110.4ms inference, 0.0ms postprocess per image at shape (1, 3, 384, 640)\n",
      "\n",
      "0: 384x640 1 person, 2 cars, 110.2ms\n",
      "Speed: 3.5ms preprocess, 110.2ms inference, 0.0ms postprocess per image at shape (1, 3, 384, 640)\n",
      "\n"
     ]
    },
    {
     "name": "stdout",
     "output_type": "stream",
     "text": [
      "248 230 526 478\n",
      "1\n",
      "414 153 642 363\n",
      "1\n",
      "248 71 309 243\n",
      "1\n",
      "248 230 526 477\n",
      "1\n",
      "249 72 315 242\n",
      "1\n",
      "414 153 642 363\n",
      "1\n"
     ]
    },
    {
     "name": "stderr",
     "output_type": "stream",
     "text": [
      "0: 384x640 1 person, 2 cars, 93.9ms\n",
      "Speed: 2.0ms preprocess, 93.9ms inference, 0.0ms postprocess per image at shape (1, 3, 384, 640)\n",
      "\n",
      "0: 384x640 1 person, 2 cars, 108.0ms\n",
      "Speed: 0.0ms preprocess, 108.0ms inference, 0.0ms postprocess per image at shape (1, 3, 384, 640)\n",
      "\n"
     ]
    },
    {
     "name": "stdout",
     "output_type": "stream",
     "text": [
      "248 230 526 478\n",
      "1\n",
      "256 72 317 243\n",
      "1\n",
      "414 153 642 363\n",
      "1\n",
      "248 230 526 477\n",
      "1\n",
      "256 71 318 243\n",
      "1\n",
      "413 153 642 363\n",
      "1\n"
     ]
    },
    {
     "name": "stderr",
     "output_type": "stream",
     "text": [
      "0: 384x640 1 person, 2 cars, 109.3ms\n",
      "Speed: 1.4ms preprocess, 109.3ms inference, 0.0ms postprocess per image at shape (1, 3, 384, 640)\n",
      "\n",
      "0: 384x640 1 person, 2 cars, 79.3ms\n",
      "Speed: 6.1ms preprocess, 79.3ms inference, 0.0ms postprocess per image at shape (1, 3, 384, 640)\n",
      "\n"
     ]
    },
    {
     "name": "stdout",
     "output_type": "stream",
     "text": [
      "248 230 526 478\n",
      "1\n",
      "414 153 642 363\n",
      "1\n",
      "257 69 314 243\n",
      "1\n",
      "248 230 525 478\n",
      "1\n",
      "414 153 642 363\n",
      "1\n",
      "258 70 313 244\n",
      "1\n"
     ]
    },
    {
     "name": "stderr",
     "output_type": "stream",
     "text": [
      "0: 384x640 1 person, 2 cars, 105.4ms\n",
      "Speed: 1.5ms preprocess, 105.4ms inference, 0.0ms postprocess per image at shape (1, 3, 384, 640)\n",
      "\n",
      "0: 384x640 1 person, 2 cars, 93.8ms\n",
      "Speed: 0.0ms preprocess, 93.8ms inference, 0.0ms postprocess per image at shape (1, 3, 384, 640)\n",
      "\n"
     ]
    },
    {
     "name": "stdout",
     "output_type": "stream",
     "text": [
      "248 230 525 478\n",
      "1\n",
      "414 153 642 363\n",
      "1\n",
      "261 71 309 244\n",
      "1\n",
      "248 230 526 478\n",
      "1\n",
      "414 153 642 363\n",
      "1\n",
      "262 70 309 243\n",
      "1\n"
     ]
    },
    {
     "name": "stderr",
     "output_type": "stream",
     "text": [
      "0: 384x640 1 person, 2 cars, 107.0ms\n",
      "Speed: 0.0ms preprocess, 107.0ms inference, 0.0ms postprocess per image at shape (1, 3, 384, 640)\n",
      "\n",
      "0: 384x640 1 person, 2 cars, 106.2ms\n",
      "Speed: 5.4ms preprocess, 106.2ms inference, 0.0ms postprocess per image at shape (1, 3, 384, 640)\n",
      "\n"
     ]
    },
    {
     "name": "stdout",
     "output_type": "stream",
     "text": [
      "248 230 526 478\n",
      "1\n",
      "414 153 642 363\n",
      "1\n",
      "263 69 310 243\n",
      "1\n",
      "248 231 526 478\n",
      "1\n",
      "414 153 642 363\n",
      "1\n",
      "264 69 310 243\n",
      "1\n"
     ]
    },
    {
     "name": "stderr",
     "output_type": "stream",
     "text": [
      "0: 384x640 1 person, 2 cars, 109.9ms\n",
      "Speed: 0.0ms preprocess, 109.9ms inference, 0.0ms postprocess per image at shape (1, 3, 384, 640)\n",
      "\n",
      "0: 384x640 1 person, 2 cars, 109.9ms\n",
      "Speed: 0.0ms preprocess, 109.9ms inference, 0.0ms postprocess per image at shape (1, 3, 384, 640)\n",
      "\n"
     ]
    },
    {
     "name": "stdout",
     "output_type": "stream",
     "text": [
      "248 230 526 478\n",
      "1\n",
      "414 153 642 363\n",
      "1\n",
      "264 69 311 242\n",
      "1\n",
      "248 230 526 478\n",
      "1\n",
      "414 153 642 363\n",
      "1\n",
      "265 70 311 242\n",
      "1\n"
     ]
    },
    {
     "name": "stderr",
     "output_type": "stream",
     "text": [
      "0: 384x640 1 person, 2 cars, 99.7ms\n",
      "Speed: 4.0ms preprocess, 99.7ms inference, 3.6ms postprocess per image at shape (1, 3, 384, 640)\n",
      "\n",
      "0: 384x640 1 person, 2 cars, 92.4ms\n",
      "Speed: 2.2ms preprocess, 92.4ms inference, 0.0ms postprocess per image at shape (1, 3, 384, 640)\n",
      "\n"
     ]
    },
    {
     "name": "stdout",
     "output_type": "stream",
     "text": [
      "248 230 526 478\n",
      "1\n",
      "414 153 642 363\n",
      "1\n",
      "265 69 317 242\n",
      "1\n",
      "248 230 526 478\n",
      "1\n",
      "414 153 642 363\n",
      "1\n",
      "265 66 317 240\n",
      "1\n"
     ]
    },
    {
     "name": "stderr",
     "output_type": "stream",
     "text": [
      "0: 384x640 1 person, 2 cars, 86.9ms\n",
      "Speed: 7.5ms preprocess, 86.9ms inference, 0.0ms postprocess per image at shape (1, 3, 384, 640)\n",
      "\n",
      "0: 384x640 1 person, 2 cars, 89.2ms\n",
      "Speed: 3.9ms preprocess, 89.2ms inference, 0.0ms postprocess per image at shape (1, 3, 384, 640)\n",
      "\n"
     ]
    },
    {
     "name": "stdout",
     "output_type": "stream",
     "text": [
      "248 230 526 478\n",
      "1\n",
      "414 153 642 363\n",
      "1\n",
      "265 69 316 236\n",
      "1\n",
      "248 230 526 478\n",
      "1\n",
      "414 153 642 363\n",
      "1\n",
      "264 68 317 234\n",
      "1\n"
     ]
    },
    {
     "name": "stderr",
     "output_type": "stream",
     "text": [
      "0: 384x640 1 person, 2 cars, 94.8ms\n",
      "Speed: 1.6ms preprocess, 94.8ms inference, 0.0ms postprocess per image at shape (1, 3, 384, 640)\n",
      "\n",
      "0: 384x640 1 person, 2 cars, 106.9ms\n",
      "Speed: 0.0ms preprocess, 106.9ms inference, 0.0ms postprocess per image at shape (1, 3, 384, 640)\n",
      "\n"
     ]
    },
    {
     "name": "stdout",
     "output_type": "stream",
     "text": [
      "248 230 525 478\n",
      "1\n",
      "414 153 642 363\n",
      "1\n",
      "265 66 320 236\n",
      "1\n",
      "248 230 525 477\n",
      "1\n",
      "265 65 323 234\n",
      "1\n",
      "414 152 642 363\n",
      "1\n"
     ]
    },
    {
     "name": "stderr",
     "output_type": "stream",
     "text": [
      "0: 384x640 1 person, 2 cars, 98.2ms\n",
      "Speed: 1.3ms preprocess, 98.2ms inference, 0.0ms postprocess per image at shape (1, 3, 384, 640)\n",
      "\n",
      "0: 384x640 1 person, 2 cars, 87.9ms\n",
      "Speed: 0.0ms preprocess, 87.9ms inference, 15.6ms postprocess per image at shape (1, 3, 384, 640)\n",
      "\n"
     ]
    },
    {
     "name": "stdout",
     "output_type": "stream",
     "text": [
      "248 230 525 477\n",
      "1\n",
      "265 65 324 234\n",
      "1\n",
      "414 152 642 363\n",
      "1\n",
      "248 230 525 477\n",
      "1\n",
      "265 62 323 233\n",
      "1\n",
      "414 152 642 363\n",
      "1\n"
     ]
    },
    {
     "name": "stderr",
     "output_type": "stream",
     "text": [
      "0: 384x640 1 person, 2 cars, 110.0ms\n",
      "Speed: 0.0ms preprocess, 110.0ms inference, 15.6ms postprocess per image at shape (1, 3, 384, 640)\n",
      "\n",
      "0: 384x640 1 person, 2 cars, 78.4ms\n",
      "Speed: 2.6ms preprocess, 78.4ms inference, 0.0ms postprocess per image at shape (1, 3, 384, 640)\n",
      "\n"
     ]
    },
    {
     "name": "stdout",
     "output_type": "stream",
     "text": [
      "248 230 525 478\n",
      "1\n",
      "265 61 324 233\n",
      "1\n",
      "413 152 642 363\n",
      "1\n",
      "248 230 525 477\n",
      "1\n",
      "414 152 642 363\n",
      "1\n",
      "266 57 323 233\n",
      "1\n"
     ]
    },
    {
     "name": "stderr",
     "output_type": "stream",
     "text": [
      "0: 384x640 1 person, 2 cars, 97.9ms\n",
      "Speed: 0.0ms preprocess, 97.9ms inference, 0.0ms postprocess per image at shape (1, 3, 384, 640)\n",
      "\n",
      "0: 384x640 1 person, 2 cars, 94.1ms\n",
      "Speed: 0.0ms preprocess, 94.1ms inference, 0.0ms postprocess per image at shape (1, 3, 384, 640)\n",
      "\n"
     ]
    },
    {
     "name": "stdout",
     "output_type": "stream",
     "text": [
      "248 231 525 477\n",
      "1\n",
      "414 152 642 363\n",
      "1\n",
      "267 62 320 232\n",
      "1\n",
      "248 231 525 477\n",
      "1\n",
      "414 152 642 363\n",
      "1\n",
      "268 58 319 236\n",
      "1\n"
     ]
    },
    {
     "name": "stderr",
     "output_type": "stream",
     "text": [
      "0: 384x640 1 person, 2 cars, 103.4ms\n",
      "Speed: 2.3ms preprocess, 103.4ms inference, 0.0ms postprocess per image at shape (1, 3, 384, 640)\n",
      "\n",
      "0: 384x640 1 person, 2 cars, 109.9ms\n",
      "Speed: 2.6ms preprocess, 109.9ms inference, 0.0ms postprocess per image at shape (1, 3, 384, 640)\n",
      "\n"
     ]
    },
    {
     "name": "stdout",
     "output_type": "stream",
     "text": [
      "248 230 525 477\n",
      "1\n",
      "414 152 642 363\n",
      "1\n",
      "269 48 320 232\n",
      "1\n",
      "248 230 525 477\n",
      "1\n",
      "414 152 642 363\n",
      "1\n",
      "270 56 321 228\n",
      "1\n"
     ]
    },
    {
     "name": "stderr",
     "output_type": "stream",
     "text": [
      "0: 384x640 1 person, 2 cars, 104.3ms\n",
      "Speed: 2.3ms preprocess, 104.3ms inference, 0.0ms postprocess per image at shape (1, 3, 384, 640)\n",
      "\n",
      "0: 384x640 1 person, 2 cars, 75.4ms\n",
      "Speed: 3.6ms preprocess, 75.4ms inference, 0.0ms postprocess per image at shape (1, 3, 384, 640)\n",
      "\n"
     ]
    },
    {
     "name": "stdout",
     "output_type": "stream",
     "text": [
      "248 230 525 477\n",
      "1\n",
      "414 152 642 363\n",
      "1\n",
      "271 47 321 231\n",
      "1\n",
      "248 230 525 477\n",
      "1\n",
      "414 152 642 363\n",
      "1\n",
      "270 45 325 229\n",
      "1\n"
     ]
    },
    {
     "name": "stderr",
     "output_type": "stream",
     "text": [
      "0: 384x640 1 person, 2 cars, 103.2ms\n",
      "Speed: 4.8ms preprocess, 103.2ms inference, 0.0ms postprocess per image at shape (1, 3, 384, 640)\n",
      "\n",
      "0: 384x640 1 person, 2 cars, 107.7ms\n",
      "Speed: 0.0ms preprocess, 107.7ms inference, 0.0ms postprocess per image at shape (1, 3, 384, 640)\n",
      "\n"
     ]
    },
    {
     "name": "stdout",
     "output_type": "stream",
     "text": [
      "248 230 525 477\n",
      "1\n",
      "414 152 642 363\n",
      "1\n",
      "271 44 328 225\n",
      "1\n",
      "248 230 525 477\n",
      "1\n",
      "414 152 642 363\n",
      "1\n",
      "270 44 329 225\n",
      "1\n"
     ]
    },
    {
     "name": "stderr",
     "output_type": "stream",
     "text": [
      "0: 384x640 1 person, 2 cars, 105.4ms\n",
      "Speed: 3.1ms preprocess, 105.4ms inference, 0.0ms postprocess per image at shape (1, 3, 384, 640)\n",
      "\n",
      "0: 384x640 1 person, 2 cars, 94.0ms\n",
      "Speed: 2.1ms preprocess, 94.0ms inference, 0.0ms postprocess per image at shape (1, 3, 384, 640)\n",
      "\n"
     ]
    },
    {
     "name": "stdout",
     "output_type": "stream",
     "text": [
      "248 230 525 477\n",
      "1\n",
      "269 44 335 225\n",
      "1\n",
      "413 152 642 363\n",
      "1\n",
      "248 230 525 477\n",
      "1\n",
      "268 44 337 224\n",
      "1\n",
      "413 152 642 363\n",
      "1\n"
     ]
    },
    {
     "name": "stderr",
     "output_type": "stream",
     "text": [
      "0: 384x640 1 person, 2 cars, 89.6ms\n",
      "Speed: 4.8ms preprocess, 89.6ms inference, 15.6ms postprocess per image at shape (1, 3, 384, 640)\n",
      "\n",
      "0: 384x640 1 person, 2 cars, 95.4ms\n",
      "Speed: 3.0ms preprocess, 95.4ms inference, 0.0ms postprocess per image at shape (1, 3, 384, 640)\n",
      "\n"
     ]
    },
    {
     "name": "stdout",
     "output_type": "stream",
     "text": [
      "248 230 525 477\n",
      "1\n",
      "267 44 337 224\n",
      "1\n",
      "413 152 641 363\n",
      "1\n",
      "248 230 525 477\n",
      "1\n",
      "266 44 337 224\n",
      "1\n",
      "412 152 641 363\n",
      "1\n"
     ]
    },
    {
     "name": "stderr",
     "output_type": "stream",
     "text": [
      "0: 384x640 1 person, 2 cars, 1 truck, 99.9ms\n",
      "Speed: 11.1ms preprocess, 99.9ms inference, 0.0ms postprocess per image at shape (1, 3, 384, 640)\n",
      "\n",
      "0: 384x640 1 person, 2 cars, 1 truck, 84.9ms\n",
      "Speed: 2.1ms preprocess, 84.9ms inference, 0.0ms postprocess per image at shape (1, 3, 384, 640)\n",
      "\n"
     ]
    },
    {
     "name": "stdout",
     "output_type": "stream",
     "text": [
      "248 230 525 477\n",
      "1\n",
      "265 45 336 225\n",
      "1\n",
      "412 152 641 363\n",
      "1\n",
      "1218 0 1279 77\n",
      "1\n",
      "248 230 525 477\n",
      "1\n",
      "265 45 335 224\n",
      "1\n",
      "412 152 641 363\n",
      "1\n",
      "1212 0 1279 77\n",
      "1\n"
     ]
    },
    {
     "name": "stderr",
     "output_type": "stream",
     "text": [
      "0: 384x640 1 person, 3 cars, 103.2ms\n",
      "Speed: 5.8ms preprocess, 103.2ms inference, 0.0ms postprocess per image at shape (1, 3, 384, 640)\n",
      "\n",
      "0: 384x640 1 person, 3 cars, 79.1ms\n",
      "Speed: 4.0ms preprocess, 79.1ms inference, 0.0ms postprocess per image at shape (1, 3, 384, 640)\n",
      "\n",
      "0: 384x640 1 person, 3 cars, 86.6ms\n"
     ]
    },
    {
     "name": "stdout",
     "output_type": "stream",
     "text": [
      "248 230 525 477\n",
      "1\n",
      "265 45 332 224\n",
      "1\n",
      "413 152 641 363\n",
      "1\n",
      "1206 0 1279 78\n",
      "1\n",
      "249 230 525 477\n",
      "1\n",
      "265 44 329 222\n",
      "1\n",
      "414 152 641 363\n",
      "1\n",
      "1199 0 1279 80\n",
      "1\n",
      "249 230 525 477\n",
      "1\n",
      "414 152 641 363\n",
      "1\n",
      "265 45 326 222\n",
      "1\n",
      "1191 0 1279 82\n",
      "1\n"
     ]
    },
    {
     "name": "stderr",
     "output_type": "stream",
     "text": [
      "Speed: 2.9ms preprocess, 86.6ms inference, 0.0ms postprocess per image at shape (1, 3, 384, 640)\n",
      "\n",
      "0: 384x640 1 person, 3 cars, 101.2ms\n",
      "Speed: 6.4ms preprocess, 101.2ms inference, 0.0ms postprocess per image at shape (1, 3, 384, 640)\n",
      "\n",
      "0: 384x640 1 person, 3 cars, 94.4ms\n",
      "Speed: 2.5ms preprocess, 94.4ms inference, 15.7ms postprocess per image at shape (1, 3, 384, 640)\n",
      "\n"
     ]
    },
    {
     "name": "stdout",
     "output_type": "stream",
     "text": [
      "249 230 525 477\n",
      "1\n",
      "265 44 328 221\n",
      "1\n",
      "414 152 641 363\n",
      "1\n",
      "1186 0 1279 85\n",
      "1\n",
      "249 230 525 477\n",
      "1\n",
      "264 44 325 219\n",
      "1\n",
      "413 152 641 363\n",
      "1\n",
      "1180 0 1279 85\n",
      "1\n"
     ]
    },
    {
     "name": "stderr",
     "output_type": "stream",
     "text": [
      "0: 384x640 1 person, 3 cars, 109.9ms\n",
      "Speed: 2.0ms preprocess, 109.9ms inference, 0.0ms postprocess per image at shape (1, 3, 384, 640)\n",
      "\n",
      "0: 384x640 1 person, 3 cars, 79.1ms\n",
      "Speed: 8.5ms preprocess, 79.1ms inference, 0.0ms postprocess per image at shape (1, 3, 384, 640)\n",
      "\n"
     ]
    },
    {
     "name": "stdout",
     "output_type": "stream",
     "text": [
      "249 231 525 477\n",
      "1\n",
      "263 44 324 216\n",
      "1\n",
      "413 152 641 363\n",
      "1\n",
      "1173 0 1279 86\n",
      "1\n",
      "249 230 525 477\n",
      "1\n",
      "414 152 641 363\n",
      "1\n",
      "263 43 324 216\n",
      "1\n",
      "1167 0 1279 88\n",
      "1\n"
     ]
    },
    {
     "name": "stderr",
     "output_type": "stream",
     "text": [
      "0: 384x640 1 person, 3 cars, 101.4ms\n",
      "Speed: 6.3ms preprocess, 101.4ms inference, 0.0ms postprocess per image at shape (1, 3, 384, 640)\n",
      "\n",
      "0: 384x640 1 person, 3 cars, 94.1ms\n",
      "Speed: 0.0ms preprocess, 94.1ms inference, 0.0ms postprocess per image at shape (1, 3, 384, 640)\n",
      "\n"
     ]
    },
    {
     "name": "stdout",
     "output_type": "stream",
     "text": [
      "249 230 525 477\n",
      "1\n",
      "414 152 641 363\n",
      "1\n",
      "264 43 325 215\n",
      "1\n",
      "1160 0 1279 88\n",
      "1\n",
      "249 230 525 477\n",
      "1\n",
      "1155 0 1279 90\n",
      "1\n",
      "414 152 641 363\n",
      "1\n",
      "264 43 324 215\n",
      "1\n"
     ]
    },
    {
     "name": "stderr",
     "output_type": "stream",
     "text": [
      "0: 384x640 1 person, 3 cars, 94.4ms\n",
      "Speed: 0.0ms preprocess, 94.4ms inference, 0.0ms postprocess per image at shape (1, 3, 384, 640)\n",
      "\n",
      "0: 384x640 1 person, 3 cars, 1 truck, 102.5ms\n",
      "Speed: 0.0ms preprocess, 102.5ms inference, 0.0ms postprocess per image at shape (1, 3, 384, 640)\n",
      "\n"
     ]
    },
    {
     "name": "stdout",
     "output_type": "stream",
     "text": [
      "249 230 525 477\n",
      "1\n",
      "414 152 641 363\n",
      "1\n",
      "263 43 324 214\n",
      "1\n",
      "1150 0 1280 93\n",
      "1\n",
      "249 230 525 477\n",
      "1\n",
      "414 152 641 363\n",
      "1\n",
      "263 43 324 213\n",
      "1\n",
      "1144 0 1279 95\n",
      "1\n",
      "1143 0 1279 95\n",
      "1\n"
     ]
    },
    {
     "name": "stderr",
     "output_type": "stream",
     "text": [
      "0: 384x640 1 person, 3 cars, 99.8ms\n",
      "Speed: 3.5ms preprocess, 99.8ms inference, 0.0ms postprocess per image at shape (1, 3, 384, 640)\n",
      "\n",
      "0: 384x640 1 person, 3 cars, 94.5ms\n",
      "Speed: 0.0ms preprocess, 94.5ms inference, 0.0ms postprocess per image at shape (1, 3, 384, 640)\n",
      "\n"
     ]
    },
    {
     "name": "stdout",
     "output_type": "stream",
     "text": [
      "249 230 525 477\n",
      "1\n",
      "415 152 641 363\n",
      "1\n",
      "1138 0 1279 96\n",
      "1\n",
      "263 42 323 213\n",
      "1\n",
      "249 230 525 477\n",
      "1\n",
      "414 152 641 363\n",
      "1\n",
      "264 43 324 213\n",
      "1\n",
      "1132 0 1279 98\n",
      "1\n"
     ]
    },
    {
     "name": "stderr",
     "output_type": "stream",
     "text": [
      "0: 384x640 1 person, 3 cars, 103.3ms\n",
      "Speed: 0.0ms preprocess, 103.3ms inference, 0.0ms postprocess per image at shape (1, 3, 384, 640)\n",
      "\n",
      "0: 384x640 1 person, 3 cars, 107.0ms\n",
      "Speed: 0.0ms preprocess, 107.0ms inference, 0.0ms postprocess per image at shape (1, 3, 384, 640)\n",
      "\n"
     ]
    },
    {
     "name": "stdout",
     "output_type": "stream",
     "text": [
      "249 230 525 477\n",
      "1\n",
      "414 152 641 363\n",
      "1\n",
      "1126 0 1279 99\n",
      "1\n",
      "266 37 326 210\n",
      "1\n",
      "249 230 525 477\n",
      "1\n",
      "1121 0 1279 100\n",
      "1\n",
      "414 152 641 363\n",
      "1\n",
      "267 36 327 210\n",
      "1\n"
     ]
    },
    {
     "name": "stderr",
     "output_type": "stream",
     "text": [
      "0: 384x640 1 person, 3 cars, 94.3ms\n",
      "Speed: 15.6ms preprocess, 94.3ms inference, 0.0ms postprocess per image at shape (1, 3, 384, 640)\n",
      "\n",
      "0: 384x640 1 person, 3 cars, 94.4ms\n",
      "Speed: 4.0ms preprocess, 94.4ms inference, 0.0ms postprocess per image at shape (1, 3, 384, 640)\n",
      "\n"
     ]
    },
    {
     "name": "stdout",
     "output_type": "stream",
     "text": [
      "249 230 525 477\n",
      "1\n",
      "1117 0 1279 102\n",
      "1\n",
      "414 152 641 363\n",
      "1\n",
      "267 36 329 210\n",
      "1\n",
      "249 230 525 477\n",
      "1\n",
      "1112 0 1279 103\n",
      "1\n",
      "414 152 641 363\n",
      "1\n",
      "268 42 333 213\n",
      "1\n"
     ]
    },
    {
     "name": "stderr",
     "output_type": "stream",
     "text": [
      "0: 384x640 1 person, 3 cars, 99.7ms\n",
      "Speed: 0.0ms preprocess, 99.7ms inference, 0.0ms postprocess per image at shape (1, 3, 384, 640)\n",
      "\n",
      "0: 384x640 1 person, 3 cars, 94.4ms\n",
      "Speed: 3.5ms preprocess, 94.4ms inference, 0.0ms postprocess per image at shape (1, 3, 384, 640)\n",
      "\n"
     ]
    },
    {
     "name": "stdout",
     "output_type": "stream",
     "text": [
      "249 230 525 477\n",
      "1\n",
      "1106 1 1279 104\n",
      "1\n",
      "414 152 641 363\n",
      "1\n",
      "270 36 332 210\n",
      "1\n",
      "249 230 526 477\n",
      "1\n",
      "1101 1 1279 106\n",
      "1\n",
      "270 36 334 209\n",
      "1\n",
      "414 152 641 363\n",
      "1\n"
     ]
    },
    {
     "name": "stderr",
     "output_type": "stream",
     "text": [
      "0: 384x640 1 person, 3 cars, 110.2ms\n",
      "Speed: 5.1ms preprocess, 110.2ms inference, 0.0ms postprocess per image at shape (1, 3, 384, 640)\n",
      "\n",
      "0: 384x640 1 person, 3 cars, 93.1ms\n",
      "Speed: 0.0ms preprocess, 93.1ms inference, 0.0ms postprocess per image at shape (1, 3, 384, 640)\n",
      "\n"
     ]
    },
    {
     "name": "stdout",
     "output_type": "stream",
     "text": [
      "249 230 526 477\n",
      "1\n",
      "1096 0 1279 107\n",
      "1\n",
      "414 152 641 363\n",
      "1\n",
      "270 36 335 207\n",
      "1\n",
      "249 230 526 477\n",
      "1\n",
      "1092 0 1280 110\n",
      "1\n",
      "414 152 642 363\n",
      "1\n",
      "272 41 339 206\n",
      "1\n"
     ]
    },
    {
     "name": "stderr",
     "output_type": "stream",
     "text": [
      "0: 384x640 1 person, 3 cars, 103.7ms\n",
      "Speed: 6.5ms preprocess, 103.7ms inference, 0.0ms postprocess per image at shape (1, 3, 384, 640)\n",
      "\n",
      "0: 384x640 1 person, 3 cars, 77.0ms\n",
      "Speed: 1.3ms preprocess, 77.0ms inference, 0.0ms postprocess per image at shape (1, 3, 384, 640)\n",
      "\n"
     ]
    },
    {
     "name": "stdout",
     "output_type": "stream",
     "text": [
      "249 230 526 477\n",
      "1\n",
      "414 152 642 363\n",
      "1\n",
      "271 41 338 206\n",
      "1\n",
      "1087 0 1280 110\n",
      "1\n",
      "249 230 526 477\n",
      "1\n",
      "414 152 642 363\n",
      "1\n",
      "1084 0 1280 113\n",
      "1\n",
      "272 41 334 207\n",
      "1\n"
     ]
    },
    {
     "name": "stderr",
     "output_type": "stream",
     "text": [
      "0: 384x640 1 person, 3 cars, 109.8ms\n",
      "Speed: 0.0ms preprocess, 109.8ms inference, 0.0ms postprocess per image at shape (1, 3, 384, 640)\n",
      "\n",
      "0: 384x640 1 person, 3 cars, 108.3ms\n",
      "Speed: 0.0ms preprocess, 108.3ms inference, 0.0ms postprocess per image at shape (1, 3, 384, 640)\n",
      "\n"
     ]
    },
    {
     "name": "stdout",
     "output_type": "stream",
     "text": [
      "249 230 526 477\n",
      "1\n",
      "414 152 642 363\n",
      "1\n",
      "1079 0 1280 115\n",
      "1\n",
      "273 35 331 206\n",
      "1\n",
      "249 231 526 477\n",
      "1\n",
      "414 152 642 363\n",
      "1\n",
      "1075 0 1280 117\n",
      "1\n",
      "275 42 329 206\n",
      "1\n"
     ]
    },
    {
     "name": "stderr",
     "output_type": "stream",
     "text": [
      "0: 384x640 3 cars, 98.5ms\n",
      "Speed: 2.5ms preprocess, 98.5ms inference, 0.0ms postprocess per image at shape (1, 3, 384, 640)\n",
      "\n",
      "0: 384x640 3 cars, 109.4ms\n",
      "Speed: 0.0ms preprocess, 109.4ms inference, 0.0ms postprocess per image at shape (1, 3, 384, 640)\n",
      "\n"
     ]
    },
    {
     "name": "stdout",
     "output_type": "stream",
     "text": [
      "249 231 526 477\n",
      "1\n",
      "1071 0 1279 118\n",
      "1\n",
      "415 152 642 363\n",
      "1\n",
      "249 230 526 477\n",
      "1\n",
      "1068 0 1280 120\n",
      "1\n",
      "415 152 642 363\n",
      "1\n"
     ]
    },
    {
     "name": "stderr",
     "output_type": "stream",
     "text": [
      "0: 384x640 3 cars, 63.6ms\n",
      "Speed: 4.0ms preprocess, 63.6ms inference, 0.0ms postprocess per image at shape (1, 3, 384, 640)\n",
      "\n",
      "0: 384x640 1 person, 3 cars, 104.8ms\n",
      "Speed: 0.0ms preprocess, 104.8ms inference, 0.0ms postprocess per image at shape (1, 3, 384, 640)\n",
      "\n"
     ]
    },
    {
     "name": "stdout",
     "output_type": "stream",
     "text": [
      "249 230 526 477\n",
      "1\n",
      "1064 0 1280 121\n",
      "1\n",
      "414 152 642 363\n",
      "1\n",
      "249 230 526 477\n",
      "1\n",
      "1060 0 1280 122\n",
      "1\n",
      "414 152 642 363\n",
      "1\n",
      "275 41 328 206\n",
      "1\n"
     ]
    },
    {
     "name": "stderr",
     "output_type": "stream",
     "text": [
      "0: 384x640 1 person, 3 cars, 92.1ms\n",
      "Speed: 0.0ms preprocess, 92.1ms inference, 0.0ms postprocess per image at shape (1, 3, 384, 640)\n",
      "\n",
      "0: 384x640 1 person, 3 cars, 100.1ms\n",
      "Speed: 0.0ms preprocess, 100.1ms inference, 15.6ms postprocess per image at shape (1, 3, 384, 640)\n",
      "\n"
     ]
    },
    {
     "name": "stdout",
     "output_type": "stream",
     "text": [
      "249 230 526 477\n",
      "1\n",
      "1057 0 1279 124\n",
      "1\n",
      "414 152 642 363\n",
      "1\n",
      "274 42 330 206\n",
      "1\n",
      "249 230 526 477\n",
      "1\n",
      "1054 0 1277 126\n",
      "1\n",
      "414 152 642 363\n",
      "1\n",
      "274 41 329 206\n",
      "1\n"
     ]
    },
    {
     "name": "stderr",
     "output_type": "stream",
     "text": [
      "0: 384x640 3 cars, 116.5ms\n",
      "Speed: 0.0ms preprocess, 116.5ms inference, 0.0ms postprocess per image at shape (1, 3, 384, 640)\n",
      "\n",
      "0: 384x640 3 cars, 96.1ms\n",
      "Speed: 0.0ms preprocess, 96.1ms inference, 0.0ms postprocess per image at shape (1, 3, 384, 640)\n",
      "\n"
     ]
    },
    {
     "name": "stdout",
     "output_type": "stream",
     "text": [
      "249 230 526 477\n",
      "1\n",
      "1051 0 1272 128\n",
      "1\n",
      "414 152 642 363\n",
      "1\n",
      "249 230 526 477\n",
      "1\n",
      "1046 0 1264 130\n",
      "1\n",
      "414 152 642 363\n",
      "1\n"
     ]
    },
    {
     "name": "stderr",
     "output_type": "stream",
     "text": [
      "0: 384x640 1 person, 3 cars, 99.5ms\n",
      "Speed: 6.1ms preprocess, 99.5ms inference, 0.0ms postprocess per image at shape (1, 3, 384, 640)\n",
      "\n",
      "0: 384x640 1 person, 3 cars, 105.5ms\n",
      "Speed: 0.0ms preprocess, 105.5ms inference, 0.0ms postprocess per image at shape (1, 3, 384, 640)\n",
      "\n"
     ]
    },
    {
     "name": "stdout",
     "output_type": "stream",
     "text": [
      "249 230 526 477\n",
      "1\n",
      "1043 0 1261 132\n",
      "1\n",
      "414 152 642 363\n",
      "1\n",
      "275 42 328 201\n",
      "1\n",
      "248 230 526 477\n",
      "1\n",
      "1040 0 1257 135\n",
      "1\n",
      "414 152 642 363\n",
      "1\n",
      "274 41 329 200\n",
      "1\n"
     ]
    },
    {
     "name": "stderr",
     "output_type": "stream",
     "text": [
      "0: 384x640 2 persons, 3 cars, 88.4ms\n",
      "Speed: 3.8ms preprocess, 88.4ms inference, 0.0ms postprocess per image at shape (1, 3, 384, 640)\n",
      "\n",
      "0: 384x640 1 person, 3 cars, 100.9ms\n",
      "Speed: 8.9ms preprocess, 100.9ms inference, 0.0ms postprocess per image at shape (1, 3, 384, 640)\n",
      "\n"
     ]
    },
    {
     "name": "stdout",
     "output_type": "stream",
     "text": [
      "248 230 525 477\n",
      "1\n",
      "1038 0 1250 136\n",
      "1\n",
      "414 152 642 363\n",
      "1\n",
      "276 40 336 201\n",
      "1\n",
      "227 44 271 186\n",
      "1\n",
      "248 230 526 478\n",
      "1\n",
      "1036 0 1248 137\n",
      "1\n",
      "414 152 642 363\n",
      "1\n",
      "275 41 339 200\n",
      "1\n"
     ]
    },
    {
     "name": "stderr",
     "output_type": "stream",
     "text": [
      "0: 384x640 1 person, 4 cars, 78.5ms\n",
      "Speed: 0.0ms preprocess, 78.5ms inference, 0.0ms postprocess per image at shape (1, 3, 384, 640)\n",
      "\n",
      "0: 384x640 1 person, 4 cars, 93.8ms\n",
      "Speed: 0.0ms preprocess, 93.8ms inference, 0.0ms postprocess per image at shape (1, 3, 384, 640)\n",
      "\n"
     ]
    },
    {
     "name": "stdout",
     "output_type": "stream",
     "text": [
      "248 230 525 478\n",
      "1\n",
      "1033 0 1243 137\n",
      "1\n",
      "414 152 642 363\n",
      "1\n",
      "276 41 340 200\n",
      "1\n",
      "726 46 750 72\n",
      "1\n",
      "1031 0 1239 139\n",
      "1\n",
      "248 230 526 478\n",
      "1\n",
      "414 152 642 363\n",
      "1\n",
      "275 41 341 200\n",
      "1\n",
      "726 46 750 72\n",
      "1\n"
     ]
    },
    {
     "name": "stderr",
     "output_type": "stream",
     "text": [
      "0: 384x640 1 person, 4 cars, 93.8ms\n",
      "Speed: 0.0ms preprocess, 93.8ms inference, 0.0ms postprocess per image at shape (1, 3, 384, 640)\n",
      "\n",
      "0: 384x640 1 person, 4 cars, 73.6ms\n",
      "Speed: 5.6ms preprocess, 73.6ms inference, 15.6ms postprocess per image at shape (1, 3, 384, 640)\n",
      "\n"
     ]
    },
    {
     "name": "stdout",
     "output_type": "stream",
     "text": [
      "1028 0 1235 141\n",
      "1\n",
      "248 230 526 478\n",
      "1\n",
      "414 152 642 363\n",
      "1\n",
      "273 34 333 198\n",
      "1\n",
      "726 46 750 72\n",
      "1\n",
      "1026 0 1231 143\n",
      "1\n",
      "248 230 526 478\n",
      "1\n",
      "414 152 642 363\n",
      "1\n",
      "273 34 334 198\n",
      "1\n",
      "726 46 750 72\n",
      "1\n"
     ]
    },
    {
     "name": "stderr",
     "output_type": "stream",
     "text": [
      "0: 384x640 1 person, 4 cars, 110.1ms\n",
      "Speed: 0.0ms preprocess, 110.1ms inference, 0.0ms postprocess per image at shape (1, 3, 384, 640)\n",
      "\n",
      "0: 384x640 1 person, 4 cars, 95.2ms\n",
      "Speed: 0.0ms preprocess, 95.2ms inference, 0.0ms postprocess per image at shape (1, 3, 384, 640)\n",
      "\n"
     ]
    },
    {
     "name": "stdout",
     "output_type": "stream",
     "text": [
      "248 230 526 478\n",
      "1\n",
      "1024 0 1229 145\n",
      "1\n",
      "414 152 642 363\n",
      "1\n",
      "273 33 333 198\n",
      "1\n",
      "726 46 750 72\n",
      "1\n",
      "1022 0 1223 147\n",
      "1\n",
      "248 230 526 478\n",
      "1\n",
      "414 152 642 363\n",
      "1\n",
      "274 33 332 198\n",
      "1\n",
      "726 46 750 72\n",
      "1\n"
     ]
    },
    {
     "name": "stderr",
     "output_type": "stream",
     "text": [
      "0: 384x640 1 person, 4 cars, 88.5ms\n",
      "Speed: 0.0ms preprocess, 88.5ms inference, 0.0ms postprocess per image at shape (1, 3, 384, 640)\n",
      "\n",
      "0: 384x640 2 persons, 4 cars, 109.6ms\n",
      "Speed: 7.5ms preprocess, 109.6ms inference, 0.0ms postprocess per image at shape (1, 3, 384, 640)\n",
      "\n"
     ]
    },
    {
     "name": "stdout",
     "output_type": "stream",
     "text": [
      "248 230 526 478\n",
      "1\n",
      "1019 0 1220 149\n",
      "1\n",
      "414 152 642 363\n",
      "1\n",
      "282 42 340 198\n",
      "1\n",
      "726 46 750 72\n",
      "1\n",
      "248 230 526 478\n",
      "1\n",
      "1017 0 1217 151\n",
      "1\n",
      "414 152 642 363\n",
      "1\n",
      "284 40 342 198\n",
      "1\n",
      "726 46 750 72\n",
      "1\n",
      "230 45 270 180\n",
      "1\n"
     ]
    },
    {
     "name": "stderr",
     "output_type": "stream",
     "text": [
      "0: 384x640 2 persons, 4 cars, 94.3ms\n",
      "Speed: 0.0ms preprocess, 94.3ms inference, 0.0ms postprocess per image at shape (1, 3, 384, 640)\n",
      "\n",
      "0: 384x640 2 persons, 4 cars, 101.3ms\n",
      "Speed: 0.0ms preprocess, 101.3ms inference, 0.0ms postprocess per image at shape (1, 3, 384, 640)\n",
      "\n"
     ]
    },
    {
     "name": "stdout",
     "output_type": "stream",
     "text": [
      "248 230 526 478\n",
      "1\n",
      "1015 0 1212 154\n",
      "1\n",
      "414 152 642 363\n",
      "1\n",
      "287 40 343 196\n",
      "1\n",
      "230 44 271 180\n",
      "1\n",
      "726 46 750 72\n",
      "1\n",
      "248 230 526 478\n",
      "1\n",
      "1012 0 1209 156\n",
      "1\n",
      "413 152 642 363\n",
      "1\n",
      "288 40 344 193\n",
      "1\n",
      "230 44 271 180\n",
      "1\n",
      "726 46 750 72\n",
      "1\n"
     ]
    },
    {
     "name": "stderr",
     "output_type": "stream",
     "text": [
      "0: 384x640 2 persons, 4 cars, 94.6ms\n",
      "Speed: 3.0ms preprocess, 94.6ms inference, 0.0ms postprocess per image at shape (1, 3, 384, 640)\n",
      "\n",
      "0: 384x640 2 persons, 4 cars, 89.5ms\n",
      "Speed: 0.0ms preprocess, 89.5ms inference, 0.0ms postprocess per image at shape (1, 3, 384, 640)\n",
      "\n"
     ]
    },
    {
     "name": "stdout",
     "output_type": "stream",
     "text": [
      "248 230 526 478\n",
      "1\n",
      "1012 0 1205 159\n",
      "1\n",
      "413 152 642 363\n",
      "1\n",
      "286 41 344 191\n",
      "1\n",
      "229 44 271 179\n",
      "1\n",
      "726 46 750 72\n",
      "1\n",
      "248 230 526 477\n",
      "1\n",
      "1011 0 1202 161\n",
      "1\n",
      "413 152 642 363\n",
      "1\n",
      "286 39 344 190\n",
      "1\n",
      "229 44 271 179\n",
      "1\n",
      "726 46 750 72\n",
      "1\n"
     ]
    },
    {
     "name": "stderr",
     "output_type": "stream",
     "text": [
      "0: 384x640 2 persons, 4 cars, 106.3ms\n",
      "Speed: 0.0ms preprocess, 106.3ms inference, 0.0ms postprocess per image at shape (1, 3, 384, 640)\n",
      "\n",
      "0: 384x640 2 persons, 4 cars, 93.6ms\n",
      "Speed: 0.0ms preprocess, 93.6ms inference, 0.0ms postprocess per image at shape (1, 3, 384, 640)\n",
      "\n"
     ]
    },
    {
     "name": "stdout",
     "output_type": "stream",
     "text": [
      "248 230 526 477\n",
      "1\n",
      "1006 0 1200 164\n",
      "1\n",
      "413 152 642 363\n",
      "1\n",
      "286 41 347 191\n",
      "1\n",
      "227 44 271 181\n",
      "1\n",
      "726 46 750 72\n",
      "1\n",
      "248 230 526 477\n",
      "1\n",
      "1005 0 1197 166\n",
      "1\n",
      "413 152 642 363\n",
      "1\n",
      "288 41 348 189\n",
      "1\n",
      "229 44 271 181\n",
      "1\n",
      "726 46 750 72\n",
      "1\n"
     ]
    },
    {
     "name": "stderr",
     "output_type": "stream",
     "text": [
      "0: 384x640 2 persons, 4 cars, 97.7ms\n",
      "Speed: 3.5ms preprocess, 97.7ms inference, 12.0ms postprocess per image at shape (1, 3, 384, 640)\n",
      "\n",
      "0: 384x640 2 persons, 4 cars, 96.6ms\n",
      "Speed: 1.0ms preprocess, 96.6ms inference, 0.0ms postprocess per image at shape (1, 3, 384, 640)\n",
      "\n"
     ]
    },
    {
     "name": "stdout",
     "output_type": "stream",
     "text": [
      "248 230 526 478\n",
      "1\n",
      "1003 0 1195 168\n",
      "1\n",
      "413 152 642 363\n",
      "1\n",
      "286 43 344 191\n",
      "1\n",
      "227 44 272 180\n",
      "1\n",
      "726 46 750 72\n",
      "1\n",
      "248 231 526 477\n",
      "1\n",
      "1003 0 1192 170\n",
      "1\n",
      "414 152 642 363\n",
      "1\n",
      "287 43 344 191\n",
      "1\n",
      "227 44 272 180\n",
      "1\n",
      "726 46 750 72\n",
      "1\n"
     ]
    },
    {
     "name": "stderr",
     "output_type": "stream",
     "text": [
      "0: 384x640 2 persons, 4 cars, 105.0ms\n",
      "Speed: 0.0ms preprocess, 105.0ms inference, 0.0ms postprocess per image at shape (1, 3, 384, 640)\n",
      "\n",
      "0: 384x640 2 persons, 4 cars, 110.0ms\n",
      "Speed: 0.0ms preprocess, 110.0ms inference, 0.0ms postprocess per image at shape (1, 3, 384, 640)\n",
      "\n"
     ]
    },
    {
     "name": "stdout",
     "output_type": "stream",
     "text": [
      "248 231 526 477\n",
      "1\n",
      "1002 0 1188 172\n",
      "1\n",
      "413 152 642 363\n",
      "1\n",
      "288 45 344 190\n",
      "1\n",
      "226 44 273 181\n",
      "1\n",
      "726 46 750 72\n",
      "1\n",
      "248 231 525 477\n",
      "1\n",
      "999 0 1187 174\n",
      "1\n",
      "413 152 642 363\n",
      "1\n",
      "288 44 341 190\n",
      "1\n",
      "226 44 273 180\n",
      "1\n",
      "726 46 750 72\n",
      "1\n"
     ]
    },
    {
     "name": "stderr",
     "output_type": "stream",
     "text": [
      "0: 384x640 2 persons, 4 cars, 93.0ms\n",
      "Speed: 1.7ms preprocess, 93.0ms inference, 0.0ms postprocess per image at shape (1, 3, 384, 640)\n",
      "\n",
      "0: 384x640 1 person, 4 cars, 100.4ms\n",
      "Speed: 0.0ms preprocess, 100.4ms inference, 0.0ms postprocess per image at shape (1, 3, 384, 640)\n",
      "\n"
     ]
    },
    {
     "name": "stdout",
     "output_type": "stream",
     "text": [
      "248 231 525 477\n",
      "1\n",
      "998 0 1185 176\n",
      "1\n",
      "414 152 642 363\n",
      "1\n",
      "288 43 341 189\n",
      "1\n",
      "228 44 273 179\n",
      "1\n",
      "726 46 750 72\n",
      "1\n",
      "248 231 525 478\n",
      "1\n",
      "997 0 1183 177\n",
      "1\n",
      "413 152 642 363\n",
      "1\n",
      "289 43 340 188\n",
      "1\n",
      "726 46 750 72\n",
      "1\n"
     ]
    },
    {
     "name": "stderr",
     "output_type": "stream",
     "text": [
      "0: 384x640 1 person, 4 cars, 110.3ms\n",
      "Speed: 15.8ms preprocess, 110.3ms inference, 0.0ms postprocess per image at shape (1, 3, 384, 640)\n",
      "\n",
      "0: 384x640 1 person, 4 cars, 99.1ms\n",
      "Speed: 0.0ms preprocess, 99.1ms inference, 0.0ms postprocess per image at shape (1, 3, 384, 640)\n",
      "\n"
     ]
    },
    {
     "name": "stdout",
     "output_type": "stream",
     "text": [
      "248 231 525 477\n",
      "1\n",
      "998 0 1181 179\n",
      "1\n",
      "413 152 642 363\n",
      "1\n",
      "288 43 340 189\n",
      "1\n",
      "726 46 750 72\n",
      "1\n",
      "248 231 525 478\n",
      "1\n",
      "997 0 1180 181\n",
      "1\n",
      "413 152 642 363\n",
      "1\n",
      "286 41 341 190\n",
      "1\n",
      "726 46 750 72\n",
      "1\n"
     ]
    },
    {
     "name": "stderr",
     "output_type": "stream",
     "text": [
      "0: 384x640 2 persons, 4 cars, 87.8ms\n",
      "Speed: 3.0ms preprocess, 87.8ms inference, 0.0ms postprocess per image at shape (1, 3, 384, 640)\n",
      "\n",
      "0: 384x640 2 persons, 4 cars, 96.3ms\n",
      "Speed: 4.7ms preprocess, 96.3ms inference, 15.6ms postprocess per image at shape (1, 3, 384, 640)\n",
      "\n"
     ]
    },
    {
     "name": "stdout",
     "output_type": "stream",
     "text": [
      "248 231 526 478\n",
      "1\n",
      "995 0 1178 183\n",
      "1\n",
      "413 152 642 363\n",
      "1\n",
      "287 41 340 184\n",
      "1\n",
      "726 46 750 72\n",
      "1\n",
      "226 44 271 171\n",
      "1\n",
      "248 231 525 477\n",
      "1\n",
      "993 0 1176 185\n",
      "1\n",
      "413 152 642 363\n",
      "1\n",
      "286 41 337 185\n",
      "1\n",
      "726 46 750 72\n",
      "1\n",
      "227 44 271 172\n",
      "1\n"
     ]
    },
    {
     "name": "stderr",
     "output_type": "stream",
     "text": [
      "0: 384x640 4 cars, 109.6ms\n",
      "Speed: 3.0ms preprocess, 109.6ms inference, 0.0ms postprocess per image at shape (1, 3, 384, 640)\n",
      "\n",
      "0: 384x640 3 cars, 94.9ms\n",
      "Speed: 3.9ms preprocess, 94.9ms inference, 0.0ms postprocess per image at shape (1, 3, 384, 640)\n",
      "\n"
     ]
    },
    {
     "name": "stdout",
     "output_type": "stream",
     "text": [
      "248 231 525 477\n",
      "1\n",
      "992 0 1173 188\n",
      "1\n",
      "413 152 642 363\n",
      "1\n",
      "726 46 750 72\n",
      "1\n",
      "248 231 525 477\n",
      "1\n",
      "990 0 1172 191\n",
      "1\n",
      "413 152 642 363\n",
      "1\n"
     ]
    },
    {
     "name": "stderr",
     "output_type": "stream",
     "text": [
      "0: 384x640 1 person, 3 cars, 91.3ms\n",
      "Speed: 0.0ms preprocess, 91.3ms inference, 0.0ms postprocess per image at shape (1, 3, 384, 640)\n",
      "\n",
      "0: 384x640 1 person, 3 cars, 109.6ms\n",
      "Speed: 0.0ms preprocess, 109.6ms inference, 0.0ms postprocess per image at shape (1, 3, 384, 640)\n",
      "\n"
     ]
    },
    {
     "name": "stdout",
     "output_type": "stream",
     "text": [
      "248 231 525 477\n",
      "1\n",
      "413 152 642 363\n",
      "1\n",
      "988 0 1171 194\n",
      "1\n",
      "289 43 339 182\n",
      "1\n",
      "248 231 525 477\n",
      "1\n",
      "413 152 642 363\n",
      "1\n",
      "988 0 1169 197\n",
      "1\n",
      "291 39 332 182\n",
      "1\n"
     ]
    },
    {
     "name": "stderr",
     "output_type": "stream",
     "text": [
      "0: 384x640 1 person, 3 cars, 90.5ms\n",
      "Speed: 1.2ms preprocess, 90.5ms inference, 0.0ms postprocess per image at shape (1, 3, 384, 640)\n",
      "\n",
      "0: 384x640 2 persons, 3 cars, 107.9ms\n",
      "Speed: 0.0ms preprocess, 107.9ms inference, 0.0ms postprocess per image at shape (1, 3, 384, 640)\n",
      "\n"
     ]
    },
    {
     "name": "stdout",
     "output_type": "stream",
     "text": [
      "248 231 525 477\n",
      "1\n",
      "413 152 642 363\n",
      "1\n",
      "987 0 1168 199\n",
      "1\n",
      "290 41 338 179\n",
      "1\n",
      "248 230 525 477\n",
      "1\n",
      "413 152 642 363\n",
      "1\n",
      "985 0 1167 201\n",
      "1\n",
      "290 42 340 181\n",
      "1\n",
      "234 44 268 169\n",
      "1\n"
     ]
    },
    {
     "name": "stderr",
     "output_type": "stream",
     "text": [
      "0: 384x640 3 persons, 3 cars, 104.9ms\n",
      "Speed: 0.0ms preprocess, 104.9ms inference, 0.0ms postprocess per image at shape (1, 3, 384, 640)\n",
      "\n",
      "0: 384x640 2 persons, 3 cars, 104.5ms\n",
      "Speed: 0.0ms preprocess, 104.5ms inference, 0.0ms postprocess per image at shape (1, 3, 384, 640)\n",
      "\n"
     ]
    },
    {
     "name": "stdout",
     "output_type": "stream",
     "text": [
      "248 230 525 477\n",
      "1\n",
      "414 152 642 363\n",
      "1\n",
      "985 0 1167 202\n",
      "1\n",
      "290 42 339 180\n",
      "1\n",
      "234 44 269 169\n",
      "1\n",
      "240 44 282 169\n",
      "1\n",
      "248 230 525 477\n",
      "1\n",
      "984 0 1166 203\n",
      "1\n",
      "414 152 642 363\n",
      "1\n",
      "291 43 338 180\n",
      "1\n",
      "235 44 271 169\n",
      "1\n"
     ]
    },
    {
     "name": "stderr",
     "output_type": "stream",
     "text": [
      "0: 384x640 3 cars, 106.3ms\n",
      "Speed: 0.0ms preprocess, 106.3ms inference, 0.0ms postprocess per image at shape (1, 3, 384, 640)\n",
      "\n",
      "0: 384x640 1 person, 3 cars, 96.9ms\n",
      "Speed: 8.6ms preprocess, 96.9ms inference, 0.0ms postprocess per image at shape (1, 3, 384, 640)\n",
      "\n"
     ]
    },
    {
     "name": "stdout",
     "output_type": "stream",
     "text": [
      "248 230 525 477\n",
      "1\n",
      "984 0 1165 205\n",
      "1\n",
      "414 152 642 363\n",
      "1\n",
      "248 230 525 477\n",
      "1\n",
      "982 0 1164 209\n",
      "1\n",
      "414 152 642 363\n",
      "1\n",
      "291 43 337 178\n",
      "1\n"
     ]
    },
    {
     "name": "stderr",
     "output_type": "stream",
     "text": [
      "0: 384x640 1 person, 3 cars, 98.4ms\n",
      "Speed: 5.1ms preprocess, 98.4ms inference, 2.3ms postprocess per image at shape (1, 3, 384, 640)\n",
      "\n",
      "0: 384x640 2 persons, 3 cars, 106.3ms\n",
      "Speed: 0.0ms preprocess, 106.3ms inference, 9.6ms postprocess per image at shape (1, 3, 384, 640)\n",
      "\n"
     ]
    },
    {
     "name": "stdout",
     "output_type": "stream",
     "text": [
      "248 230 525 477\n",
      "1\n",
      "979 0 1163 210\n",
      "1\n",
      "414 152 642 363\n",
      "1\n",
      "291 40 334 179\n",
      "1\n",
      "248 230 525 478\n",
      "1\n",
      "412 151 642 363\n",
      "1\n",
      "976 0 1163 213\n",
      "1\n",
      "291 42 338 181\n",
      "1\n",
      "257 43 283 166\n",
      "1\n"
     ]
    },
    {
     "name": "stderr",
     "output_type": "stream",
     "text": [
      "0: 384x640 2 persons, 3 cars, 109.2ms\n",
      "Speed: 1.0ms preprocess, 109.2ms inference, 0.0ms postprocess per image at shape (1, 3, 384, 640)\n",
      "\n",
      "0: 384x640 2 persons, 3 cars, 107.1ms\n",
      "Speed: 0.0ms preprocess, 107.1ms inference, 0.0ms postprocess per image at shape (1, 3, 384, 640)\n",
      "\n"
     ]
    },
    {
     "name": "stdout",
     "output_type": "stream",
     "text": [
      "249 229 525 477\n",
      "1\n",
      "415 151 642 363\n",
      "1\n",
      "972 0 1160 216\n",
      "1\n",
      "257 48 285 165\n",
      "1\n",
      "292 43 334 178\n",
      "1\n",
      "248 230 525 477\n",
      "1\n",
      "414 152 642 363\n",
      "1\n",
      "972 0 1159 218\n",
      "1\n",
      "258 47 285 166\n",
      "1\n",
      "291 42 337 174\n",
      "1\n"
     ]
    },
    {
     "name": "stderr",
     "output_type": "stream",
     "text": [
      "0: 384x640 1 person, 3 cars, 96.0ms\n",
      "Speed: 0.0ms preprocess, 96.0ms inference, 14.0ms postprocess per image at shape (1, 3, 384, 640)\n",
      "\n",
      "0: 384x640 2 persons, 3 cars, 110.6ms\n",
      "Speed: 3.6ms preprocess, 110.6ms inference, 2.5ms postprocess per image at shape (1, 3, 384, 640)\n",
      "\n"
     ]
    },
    {
     "name": "stdout",
     "output_type": "stream",
     "text": [
      "249 231 525 477\n",
      "1\n",
      "414 153 643 363\n",
      "1\n",
      "972 0 1159 221\n",
      "1\n",
      "260 47 285 165\n",
      "1\n",
      "249 231 525 477\n",
      "1\n",
      "414 153 643 363\n",
      "1\n",
      "972 0 1157 225\n",
      "1\n",
      "292 43 337 174\n",
      "1\n",
      "259 48 285 165\n",
      "1\n"
     ]
    },
    {
     "name": "stderr",
     "output_type": "stream",
     "text": [
      "0: 384x640 1 person, 3 cars, 96.0ms\n",
      "Speed: 1.9ms preprocess, 96.0ms inference, 0.0ms postprocess per image at shape (1, 3, 384, 640)\n",
      "\n",
      "0: 384x640 2 persons, 3 cars, 94.2ms\n",
      "Speed: 2.0ms preprocess, 94.2ms inference, 0.0ms postprocess per image at shape (1, 3, 384, 640)\n",
      "\n"
     ]
    },
    {
     "name": "stdout",
     "output_type": "stream",
     "text": [
      "249 231 525 477\n",
      "1\n",
      "414 152 642 363\n",
      "1\n",
      "973 2 1157 227\n",
      "1\n",
      "256 46 287 165\n",
      "1\n",
      "249 230 525 478\n",
      "1\n",
      "414 153 643 363\n",
      "1\n",
      "966 5 1156 231\n",
      "1\n",
      "253 46 287 165\n",
      "1\n",
      "291 39 339 173\n",
      "1\n"
     ]
    },
    {
     "name": "stderr",
     "output_type": "stream",
     "text": [
      "0: 384x640 1 person, 3 cars, 88.6ms\n",
      "Speed: 10.0ms preprocess, 88.6ms inference, 0.0ms postprocess per image at shape (1, 3, 384, 640)\n",
      "\n",
      "0: 384x640 1 person, 3 cars, 103.6ms\n",
      "Speed: 0.0ms preprocess, 103.6ms inference, 0.0ms postprocess per image at shape (1, 3, 384, 640)\n",
      "\n"
     ]
    },
    {
     "name": "stdout",
     "output_type": "stream",
     "text": [
      "249 230 525 477\n",
      "1\n",
      "414 153 643 363\n",
      "1\n",
      "963 7 1156 233\n",
      "1\n",
      "253 47 286 165\n",
      "1\n",
      "249 230 526 477\n",
      "1\n",
      "413 153 643 363\n",
      "1\n",
      "963 9 1155 236\n",
      "1\n",
      "254 46 287 165\n",
      "1\n"
     ]
    },
    {
     "name": "stderr",
     "output_type": "stream",
     "text": [
      "0: 384x640 1 person, 3 cars, 103.4ms\n",
      "Speed: 4.9ms preprocess, 103.4ms inference, 0.0ms postprocess per image at shape (1, 3, 384, 640)\n",
      "\n",
      "0: 384x640 1 person, 3 cars, 90.3ms\n",
      "Speed: 0.0ms preprocess, 90.3ms inference, 0.0ms postprocess per image at shape (1, 3, 384, 640)\n",
      "\n"
     ]
    },
    {
     "name": "stdout",
     "output_type": "stream",
     "text": [
      "249 231 525 478\n",
      "1\n",
      "414 153 642 363\n",
      "1\n",
      "969 11 1154 239\n",
      "1\n",
      "255 46 286 165\n",
      "1\n",
      "248 231 525 477\n",
      "1\n",
      "413 153 643 363\n",
      "1\n",
      "966 13 1152 242\n",
      "1\n",
      "256 48 285 164\n",
      "1\n"
     ]
    },
    {
     "name": "stderr",
     "output_type": "stream",
     "text": [
      "0: 384x640 1 person, 3 cars, 106.3ms\n",
      "Speed: 3.4ms preprocess, 106.3ms inference, 0.0ms postprocess per image at shape (1, 3, 384, 640)\n",
      "\n",
      "0: 384x640 3 cars, 90.5ms\n",
      "Speed: 0.0ms preprocess, 90.5ms inference, 0.0ms postprocess per image at shape (1, 3, 384, 640)\n",
      "\n"
     ]
    },
    {
     "name": "stdout",
     "output_type": "stream",
     "text": [
      "249 231 525 477\n",
      "1\n",
      "413 153 643 363\n",
      "1\n",
      "966 15 1150 244\n",
      "1\n",
      "256 50 286 164\n",
      "1\n",
      "249 231 526 477\n",
      "1\n",
      "414 153 643 362\n",
      "1\n",
      "961 16 1149 247\n",
      "1\n"
     ]
    },
    {
     "name": "stderr",
     "output_type": "stream",
     "text": [
      "0: 384x640 3 cars, 108.9ms\n",
      "Speed: 0.0ms preprocess, 108.9ms inference, 0.0ms postprocess per image at shape (1, 3, 384, 640)\n",
      "\n",
      "0: 384x640 3 cars, 78.3ms\n",
      "Speed: 2.5ms preprocess, 78.3ms inference, 0.0ms postprocess per image at shape (1, 3, 384, 640)\n",
      "\n"
     ]
    },
    {
     "name": "stdout",
     "output_type": "stream",
     "text": [
      "249 231 526 477\n",
      "1\n",
      "414 153 643 362\n",
      "1\n",
      "959 19 1148 250\n",
      "1\n",
      "249 231 526 477\n",
      "1\n",
      "414 153 643 362\n",
      "1\n",
      "955 22 1148 254\n",
      "1\n"
     ]
    },
    {
     "name": "stderr",
     "output_type": "stream",
     "text": [
      "0: 384x640 3 cars, 91.3ms\n",
      "Speed: 0.0ms preprocess, 91.3ms inference, 0.0ms postprocess per image at shape (1, 3, 384, 640)\n",
      "\n",
      "0: 384x640 3 cars, 118.4ms\n",
      "Speed: 0.0ms preprocess, 118.4ms inference, 0.0ms postprocess per image at shape (1, 3, 384, 640)\n",
      "\n"
     ]
    },
    {
     "name": "stdout",
     "output_type": "stream",
     "text": [
      "249 231 525 477\n",
      "1\n",
      "414 153 643 362\n",
      "1\n",
      "953 24 1146 258\n",
      "1\n",
      "249 231 526 477\n",
      "1\n",
      "414 153 643 362\n",
      "1\n",
      "951 27 1143 263\n",
      "1\n"
     ]
    },
    {
     "name": "stderr",
     "output_type": "stream",
     "text": [
      "0: 384x640 3 cars, 109.9ms\n",
      "Speed: 16.0ms preprocess, 109.9ms inference, 0.0ms postprocess per image at shape (1, 3, 384, 640)\n",
      "\n",
      "0: 384x640 3 cars, 109.5ms\n",
      "Speed: 0.0ms preprocess, 109.5ms inference, 0.0ms postprocess per image at shape (1, 3, 384, 640)\n",
      "\n"
     ]
    },
    {
     "name": "stdout",
     "output_type": "stream",
     "text": [
      "249 231 526 477\n",
      "1\n",
      "414 153 643 362\n",
      "1\n",
      "950 29 1142 264\n",
      "1\n",
      "249 231 526 477\n",
      "1\n",
      "415 153 643 362\n",
      "1\n",
      "948 30 1140 267\n",
      "1\n"
     ]
    },
    {
     "name": "stderr",
     "output_type": "stream",
     "text": [
      "0: 384x640 3 cars, 98.8ms\n",
      "Speed: 0.0ms preprocess, 98.8ms inference, 0.0ms postprocess per image at shape (1, 3, 384, 640)\n",
      "\n",
      "0: 384x640 3 cars, 98.6ms\n",
      "Speed: 3.2ms preprocess, 98.6ms inference, 0.0ms postprocess per image at shape (1, 3, 384, 640)\n",
      "\n"
     ]
    },
    {
     "name": "stdout",
     "output_type": "stream",
     "text": [
      "249 231 526 477\n",
      "1\n",
      "415 153 643 362\n",
      "1\n",
      "942 32 1139 269\n",
      "1\n",
      "249 231 526 477\n",
      "1\n",
      "415 153 643 362\n",
      "1\n",
      "940 34 1138 273\n",
      "1\n"
     ]
    },
    {
     "name": "stderr",
     "output_type": "stream",
     "text": [
      "0: 384x640 3 cars, 94.5ms\n",
      "Speed: 0.0ms preprocess, 94.5ms inference, 2.2ms postprocess per image at shape (1, 3, 384, 640)\n",
      "\n",
      "0: 384x640 3 cars, 95.0ms\n",
      "Speed: 4.0ms preprocess, 95.0ms inference, 0.0ms postprocess per image at shape (1, 3, 384, 640)\n",
      "\n"
     ]
    },
    {
     "name": "stdout",
     "output_type": "stream",
     "text": [
      "249 231 526 477\n",
      "1\n",
      "415 153 643 362\n",
      "1\n",
      "940 36 1136 276\n",
      "1\n",
      "249 231 526 477\n",
      "1\n",
      "936 39 1135 279\n",
      "1\n",
      "415 153 643 362\n",
      "1\n"
     ]
    },
    {
     "name": "stderr",
     "output_type": "stream",
     "text": [
      "0: 384x640 3 cars, 106.5ms\n",
      "Speed: 0.0ms preprocess, 106.5ms inference, 0.0ms postprocess per image at shape (1, 3, 384, 640)\n",
      "\n",
      "0: 384x640 2 persons, 3 cars, 92.8ms\n",
      "Speed: 4.1ms preprocess, 92.8ms inference, 0.0ms postprocess per image at shape (1, 3, 384, 640)\n",
      "\n"
     ]
    },
    {
     "name": "stdout",
     "output_type": "stream",
     "text": [
      "249 231 526 477\n",
      "1\n",
      "934 42 1133 281\n",
      "1\n",
      "415 153 643 362\n",
      "1\n",
      "249 231 526 477\n",
      "1\n",
      "933 45 1132 285\n",
      "1\n",
      "414 153 642 362\n",
      "1\n",
      "294 39 337 168\n",
      "1\n",
      "265 46 293 152\n",
      "1\n"
     ]
    },
    {
     "name": "stderr",
     "output_type": "stream",
     "text": [
      "0: 384x640 2 persons, 3 cars, 93.9ms\n",
      "Speed: 0.0ms preprocess, 93.9ms inference, 0.0ms postprocess per image at shape (1, 3, 384, 640)\n",
      "\n",
      "0: 384x640 1 person, 3 cars, 109.6ms\n",
      "Speed: 0.0ms preprocess, 109.6ms inference, 0.0ms postprocess per image at shape (1, 3, 384, 640)\n",
      "\n"
     ]
    },
    {
     "name": "stdout",
     "output_type": "stream",
     "text": [
      "249 231 525 477\n",
      "1\n",
      "929 46 1130 290\n",
      "1\n",
      "414 153 642 362\n",
      "1\n",
      "295 39 338 167\n",
      "1\n",
      "265 45 296 152\n",
      "1\n",
      "249 231 525 477\n",
      "1\n",
      "414 153 642 362\n",
      "1\n",
      "929 47 1128 294\n",
      "1\n",
      "264 45 296 151\n",
      "1\n"
     ]
    },
    {
     "name": "stderr",
     "output_type": "stream",
     "text": [
      "0: 384x640 1 person, 3 cars, 94.2ms\n",
      "Speed: 2.0ms preprocess, 94.2ms inference, 0.0ms postprocess per image at shape (1, 3, 384, 640)\n",
      "\n",
      "0: 384x640 1 person, 3 cars, 100.9ms\n",
      "Speed: 0.0ms preprocess, 100.9ms inference, 0.0ms postprocess per image at shape (1, 3, 384, 640)\n",
      "\n"
     ]
    },
    {
     "name": "stdout",
     "output_type": "stream",
     "text": [
      "249 231 525 477\n",
      "1\n",
      "926 48 1128 296\n",
      "1\n",
      "414 153 642 362\n",
      "1\n",
      "265 44 297 151\n",
      "1\n",
      "249 231 525 477\n",
      "1\n",
      "923 53 1128 301\n",
      "1\n",
      "414 153 642 362\n",
      "1\n",
      "265 44 297 151\n",
      "1\n"
     ]
    },
    {
     "name": "stderr",
     "output_type": "stream",
     "text": [
      "0: 384x640 1 person, 3 cars, 94.4ms\n",
      "Speed: 0.0ms preprocess, 94.4ms inference, 0.0ms postprocess per image at shape (1, 3, 384, 640)\n",
      "\n",
      "0: 384x640 1 person, 3 cars, 106.8ms\n",
      "Speed: 0.0ms preprocess, 106.8ms inference, 0.0ms postprocess per image at shape (1, 3, 384, 640)\n",
      "\n"
     ]
    },
    {
     "name": "stdout",
     "output_type": "stream",
     "text": [
      "249 231 525 477\n",
      "1\n",
      "414 153 642 362\n",
      "1\n",
      "921 55 1128 304\n",
      "1\n",
      "264 44 299 151\n",
      "1\n",
      "249 231 525 477\n",
      "1\n",
      "414 153 642 362\n",
      "1\n",
      "919 57 1130 309\n",
      "1\n",
      "261 44 299 152\n",
      "1\n"
     ]
    },
    {
     "name": "stderr",
     "output_type": "stream",
     "text": [
      "0: 384x640 1 person, 3 cars, 87.2ms\n",
      "Speed: 0.0ms preprocess, 87.2ms inference, 0.0ms postprocess per image at shape (1, 3, 384, 640)\n",
      "\n",
      "0: 384x640 1 person, 3 cars, 110.1ms\n",
      "Speed: 3.0ms preprocess, 110.1ms inference, 0.0ms postprocess per image at shape (1, 3, 384, 640)\n",
      "\n"
     ]
    },
    {
     "name": "stdout",
     "output_type": "stream",
     "text": [
      "249 231 525 477\n",
      "1\n",
      "414 153 642 362\n",
      "1\n",
      "262 45 299 151\n",
      "1\n",
      "914 59 1130 311\n",
      "1\n",
      "249 231 525 477\n",
      "1\n",
      "414 153 643 362\n",
      "1\n",
      "263 45 300 151\n",
      "1\n",
      "908 62 1130 314\n",
      "1\n"
     ]
    },
    {
     "name": "stderr",
     "output_type": "stream",
     "text": [
      "0: 384x640 1 person, 3 cars, 119.4ms\n",
      "Speed: 6.5ms preprocess, 119.4ms inference, 0.0ms postprocess per image at shape (1, 3, 384, 640)\n",
      "\n",
      "0: 384x640 1 person, 3 cars, 98.7ms\n",
      "Speed: 3.1ms preprocess, 98.7ms inference, 0.0ms postprocess per image at shape (1, 3, 384, 640)\n",
      "\n"
     ]
    },
    {
     "name": "stdout",
     "output_type": "stream",
     "text": [
      "249 231 526 477\n",
      "1\n",
      "414 153 643 362\n",
      "1\n",
      "265 46 301 150\n",
      "1\n",
      "905 66 1129 318\n",
      "1\n",
      "249 231 525 477\n",
      "1\n",
      "414 153 643 362\n",
      "1\n",
      "898 69 1128 322\n",
      "1\n",
      "266 45 302 150\n",
      "1\n"
     ]
    },
    {
     "name": "stderr",
     "output_type": "stream",
     "text": [
      "0: 384x640 1 person, 3 cars, 107.0ms\n",
      "Speed: 0.0ms preprocess, 107.0ms inference, 0.0ms postprocess per image at shape (1, 3, 384, 640)\n",
      "\n",
      "0: 384x640 3 cars, 102.2ms\n",
      "Speed: 0.0ms preprocess, 102.2ms inference, 0.0ms postprocess per image at shape (1, 3, 384, 640)\n",
      "\n"
     ]
    },
    {
     "name": "stdout",
     "output_type": "stream",
     "text": [
      "249 231 525 477\n",
      "1\n",
      "414 153 643 362\n",
      "1\n",
      "898 72 1126 326\n",
      "1\n",
      "266 44 301 150\n",
      "1\n",
      "249 231 526 477\n",
      "1\n",
      "414 153 643 362\n",
      "1\n",
      "895 75 1124 331\n",
      "1\n"
     ]
    },
    {
     "name": "stderr",
     "output_type": "stream",
     "text": [
      "0: 384x640 1 person, 3 cars, 91.2ms\n",
      "Speed: 2.6ms preprocess, 91.2ms inference, 0.0ms postprocess per image at shape (1, 3, 384, 640)\n",
      "\n",
      "0: 384x640 3 cars, 89.6ms\n",
      "Speed: 0.0ms preprocess, 89.6ms inference, 0.0ms postprocess per image at shape (1, 3, 384, 640)\n",
      "\n"
     ]
    },
    {
     "name": "stdout",
     "output_type": "stream",
     "text": [
      "249 231 526 477\n",
      "1\n",
      "414 153 643 362\n",
      "1\n",
      "891 78 1118 333\n",
      "1\n",
      "267 44 301 150\n",
      "1\n",
      "249 231 526 477\n",
      "1\n",
      "414 153 642 362\n",
      "1\n",
      "886 80 1116 336\n",
      "1\n"
     ]
    },
    {
     "name": "stderr",
     "output_type": "stream",
     "text": [
      "0: 384x640 1 person, 3 cars, 100.4ms\n",
      "Speed: 0.0ms preprocess, 100.4ms inference, 0.0ms postprocess per image at shape (1, 3, 384, 640)\n",
      "\n",
      "0: 384x640 1 person, 3 cars, 1 truck, 93.8ms\n",
      "Speed: 0.0ms preprocess, 93.8ms inference, 0.0ms postprocess per image at shape (1, 3, 384, 640)\n",
      "\n"
     ]
    },
    {
     "name": "stdout",
     "output_type": "stream",
     "text": [
      "249 231 526 477\n",
      "1\n",
      "414 153 643 362\n",
      "1\n",
      "883 83 1125 341\n",
      "1\n",
      "269 44 303 148\n",
      "1\n",
      "249 231 526 477\n",
      "1\n",
      "414 153 642 362\n",
      "1\n",
      "883 87 1123 344\n",
      "1\n",
      "270 43 305 148\n",
      "1\n",
      "881 87 1123 344\n",
      "1\n"
     ]
    },
    {
     "name": "stderr",
     "output_type": "stream",
     "text": [
      "0: 384x640 1 person, 2 cars, 1 truck, 108.5ms\n",
      "Speed: 0.0ms preprocess, 108.5ms inference, 0.5ms postprocess per image at shape (1, 3, 384, 640)\n",
      "\n",
      "0: 384x640 1 person, 3 cars, 1 truck, 110.4ms\n",
      "Speed: 0.0ms preprocess, 110.4ms inference, 0.0ms postprocess per image at shape (1, 3, 384, 640)\n",
      "\n"
     ]
    },
    {
     "name": "stdout",
     "output_type": "stream",
     "text": [
      "249 231 526 477\n",
      "1\n",
      "415 153 642 362\n",
      "1\n",
      "876 90 1120 349\n",
      "1\n",
      "270 43 307 150\n",
      "1\n",
      "249 231 526 477\n",
      "1\n",
      "415 153 642 362\n",
      "1\n",
      "864 92 1123 357\n",
      "1\n",
      "270 43 307 150\n",
      "1\n",
      "866 92 1127 356\n",
      "1\n"
     ]
    },
    {
     "name": "stderr",
     "output_type": "stream",
     "text": [
      "0: 384x640 1 person, 3 cars, 1 truck, 94.0ms\n",
      "Speed: 2.0ms preprocess, 94.0ms inference, 0.0ms postprocess per image at shape (1, 3, 384, 640)\n",
      "\n",
      "0: 384x640 1 person, 3 cars, 1 truck, 105.6ms\n",
      "Speed: 0.0ms preprocess, 105.6ms inference, 0.0ms postprocess per image at shape (1, 3, 384, 640)\n",
      "\n"
     ]
    },
    {
     "name": "stdout",
     "output_type": "stream",
     "text": [
      "249 231 526 477\n",
      "1\n",
      "414 153 642 362\n",
      "1\n",
      "863 95 1106 361\n",
      "1\n",
      "863 96 1101 363\n",
      "1\n",
      "271 43 307 150\n",
      "1\n",
      "249 231 525 477\n",
      "1\n",
      "414 153 643 362\n",
      "1\n",
      "271 43 309 148\n",
      "1\n",
      "858 99 1121 366\n",
      "1\n",
      "856 99 1116 367\n",
      "1\n"
     ]
    },
    {
     "name": "stderr",
     "output_type": "stream",
     "text": [
      "0: 384x640 2 persons, 2 cars, 1 truck, 107.1ms\n",
      "Speed: 0.0ms preprocess, 107.1ms inference, 0.0ms postprocess per image at shape (1, 3, 384, 640)\n",
      "\n",
      "0: 384x640 2 persons, 3 cars, 1 truck, 106.9ms\n",
      "Speed: 0.0ms preprocess, 106.9ms inference, 0.0ms postprocess per image at shape (1, 3, 384, 640)\n",
      "\n"
     ]
    },
    {
     "name": "stdout",
     "output_type": "stream",
     "text": [
      "249 231 525 477\n",
      "1\n",
      "414 153 643 362\n",
      "1\n",
      "856 103 1110 368\n",
      "1\n",
      "270 43 313 147\n",
      "1\n",
      "315 2 362 120\n",
      "1\n",
      "249 231 525 477\n",
      "1\n",
      "414 153 643 362\n",
      "1\n",
      "854 104 1089 371\n",
      "1\n",
      "854 105 1094 369\n",
      "1\n",
      "270 40 317 145\n",
      "1\n",
      "316 2 363 116\n",
      "1\n"
     ]
    },
    {
     "name": "stderr",
     "output_type": "stream",
     "text": [
      "0: 384x640 2 cars, 1 truck, 89.9ms\n",
      "Speed: 0.0ms preprocess, 89.9ms inference, 0.0ms postprocess per image at shape (1, 3, 384, 640)\n",
      "\n",
      "0: 384x640 2 cars, 1 truck, 96.6ms\n",
      "Speed: 1.0ms preprocess, 96.6ms inference, 0.0ms postprocess per image at shape (1, 3, 384, 640)\n",
      "\n"
     ]
    },
    {
     "name": "stdout",
     "output_type": "stream",
     "text": [
      "249 231 525 477\n",
      "1\n",
      "414 153 643 362\n",
      "1\n",
      "850 108 1087 375\n",
      "1\n",
      "249 231 526 477\n",
      "1\n",
      "414 153 643 362\n",
      "1\n",
      "846 110 1082 380\n",
      "1\n"
     ]
    },
    {
     "name": "stderr",
     "output_type": "stream",
     "text": [
      "0: 384x640 1 person, 2 cars, 1 truck, 105.9ms\n",
      "Speed: 3.4ms preprocess, 105.9ms inference, 0.0ms postprocess per image at shape (1, 3, 384, 640)\n",
      "\n",
      "0: 384x640 1 person, 2 cars, 1 truck, 95.5ms\n",
      "Speed: 5.5ms preprocess, 95.5ms inference, 0.0ms postprocess per image at shape (1, 3, 384, 640)\n",
      "\n"
     ]
    },
    {
     "name": "stdout",
     "output_type": "stream",
     "text": [
      "249 231 526 477\n",
      "1\n",
      "414 153 643 362\n",
      "1\n",
      "842 112 1076 385\n",
      "1\n",
      "317 3 364 83\n",
      "1\n",
      "249 231 526 477\n",
      "1\n",
      "414 153 643 362\n",
      "1\n",
      "838 115 1076 392\n",
      "1\n",
      "318 3 365 82\n",
      "1\n"
     ]
    },
    {
     "name": "stderr",
     "output_type": "stream",
     "text": [
      "0: 384x640 2 cars, 1 truck, 101.3ms\n",
      "Speed: 8.4ms preprocess, 101.3ms inference, 0.0ms postprocess per image at shape (1, 3, 384, 640)\n",
      "\n",
      "0: 384x640 2 cars, 1 truck, 86.1ms\n",
      "Speed: 5.0ms preprocess, 86.1ms inference, 0.0ms postprocess per image at shape (1, 3, 384, 640)\n",
      "\n"
     ]
    },
    {
     "name": "stdout",
     "output_type": "stream",
     "text": [
      "249 231 526 477\n",
      "1\n",
      "413 153 643 362\n",
      "1\n",
      "837 120 1073 395\n",
      "1\n",
      "249 231 526 477\n",
      "1\n",
      "414 153 643 362\n",
      "1\n",
      "832 122 1070 399\n",
      "1\n"
     ]
    },
    {
     "name": "stderr",
     "output_type": "stream",
     "text": [
      "0: 384x640 2 cars, 1 truck, 70.4ms\n",
      "Speed: 0.0ms preprocess, 70.4ms inference, 15.6ms postprocess per image at shape (1, 3, 384, 640)\n",
      "\n",
      "0: 384x640 2 cars, 1 truck, 97.7ms\n",
      "Speed: 0.0ms preprocess, 97.7ms inference, 0.0ms postprocess per image at shape (1, 3, 384, 640)\n",
      "\n"
     ]
    },
    {
     "name": "stdout",
     "output_type": "stream",
     "text": [
      "249 231 526 477\n",
      "1\n",
      "414 153 643 362\n",
      "1\n",
      "829 125 1067 404\n",
      "1\n",
      "249 231 526 477\n",
      "1\n",
      "414 153 643 362\n",
      "1\n",
      "824 129 1063 408\n",
      "1\n"
     ]
    },
    {
     "name": "stderr",
     "output_type": "stream",
     "text": [
      "0: 384x640 2 cars, 1 truck, 107.2ms\n",
      "Speed: 0.0ms preprocess, 107.2ms inference, 0.0ms postprocess per image at shape (1, 3, 384, 640)\n",
      "\n",
      "0: 384x640 3 cars, 1 truck, 94.8ms\n",
      "Speed: 9.8ms preprocess, 94.8ms inference, 0.0ms postprocess per image at shape (1, 3, 384, 640)\n",
      "\n"
     ]
    },
    {
     "name": "stdout",
     "output_type": "stream",
     "text": [
      "249 231 526 477\n",
      "1\n",
      "414 153 643 362\n",
      "1\n",
      "820 133 1060 413\n",
      "1\n",
      "249 231 526 477\n",
      "1\n",
      "414 153 643 362\n",
      "1\n",
      "813 136 1057 424\n",
      "1\n",
      "812 136 1058 425\n",
      "1\n"
     ]
    },
    {
     "name": "stderr",
     "output_type": "stream",
     "text": [
      "0: 384x640 3 cars, 1 truck, 104.6ms\n",
      "Speed: 3.2ms preprocess, 104.6ms inference, 0.0ms postprocess per image at shape (1, 3, 384, 640)\n",
      "\n",
      "0: 384x640 3 cars, 1 truck, 91.1ms\n",
      "Speed: 0.0ms preprocess, 91.1ms inference, 0.0ms postprocess per image at shape (1, 3, 384, 640)\n",
      "\n"
     ]
    },
    {
     "name": "stdout",
     "output_type": "stream",
     "text": [
      "249 231 526 477\n",
      "1\n",
      "414 153 643 362\n",
      "1\n",
      "810 139 1056 429\n",
      "1\n",
      "810 139 1055 428\n",
      "1\n",
      "249 231 526 477\n",
      "1\n",
      "414 153 643 362\n",
      "1\n",
      "804 144 1052 429\n",
      "1\n",
      "803 143 1052 428\n",
      "1\n"
     ]
    },
    {
     "name": "stderr",
     "output_type": "stream",
     "text": [
      "0: 384x640 2 cars, 1 truck, 1 parking meter, 108.9ms\n",
      "Speed: 0.0ms preprocess, 108.9ms inference, 0.0ms postprocess per image at shape (1, 3, 384, 640)\n",
      "\n",
      "0: 384x640 2 cars, 1 truck, 1 parking meter, 93.6ms\n",
      "Speed: 0.0ms preprocess, 93.6ms inference, 0.0ms postprocess per image at shape (1, 3, 384, 640)\n",
      "\n"
     ]
    },
    {
     "name": "stdout",
     "output_type": "stream",
     "text": [
      "249 231 526 477\n",
      "1\n",
      "414 153 643 362\n",
      "1\n",
      "798 146 1050 433\n",
      "1\n",
      "327 7 379 82\n",
      "1\n",
      "249 231 526 477\n",
      "1\n",
      "414 153 643 362\n",
      "1\n",
      "795 148 1047 440\n",
      "1\n",
      "328 9 384 79\n",
      "1\n"
     ]
    },
    {
     "name": "stderr",
     "output_type": "stream",
     "text": [
      "0: 384x640 1 person, 3 cars, 1 truck, 1 parking meter, 89.8ms\n",
      "Speed: 0.0ms preprocess, 89.8ms inference, 0.0ms postprocess per image at shape (1, 3, 384, 640)\n",
      "\n",
      "0: 384x640 3 cars, 1 truck, 1 parking meter, 96.8ms\n",
      "Speed: 4.6ms preprocess, 96.8ms inference, 15.6ms postprocess per image at shape (1, 3, 384, 640)\n",
      "\n"
     ]
    },
    {
     "name": "stdout",
     "output_type": "stream",
     "text": [
      "249 231 526 477\n",
      "1\n",
      "414 153 643 362\n",
      "1\n",
      "788 152 1045 446\n",
      "1\n",
      "788 150 1045 443\n",
      "1\n",
      "330 8 387 79\n",
      "1\n",
      "280 45 316 137\n",
      "1\n",
      "249 231 526 477\n",
      "1\n",
      "414 153 643 362\n",
      "1\n",
      "784 152 1041 452\n",
      "1\n",
      "784 152 1041 453\n",
      "1\n",
      "331 9 386 79\n",
      "1\n"
     ]
    },
    {
     "name": "stderr",
     "output_type": "stream",
     "text": [
      "0: 384x640 2 cars, 1 truck, 1 parking meter, 129.9ms\n",
      "Speed: 0.0ms preprocess, 129.9ms inference, 0.0ms postprocess per image at shape (1, 3, 384, 640)\n",
      "\n",
      "0: 384x640 2 cars, 1 truck, 92.7ms\n",
      "Speed: 0.0ms preprocess, 92.7ms inference, 15.6ms postprocess per image at shape (1, 3, 384, 640)\n",
      "\n"
     ]
    },
    {
     "name": "stdout",
     "output_type": "stream",
     "text": [
      "249 231 526 477\n",
      "1\n",
      "414 153 643 362\n",
      "1\n",
      "780 152 1040 458\n",
      "1\n",
      "331 11 386 79\n",
      "1\n",
      "249 231 526 477\n",
      "1\n",
      "414 153 643 362\n",
      "1\n",
      "772 150 1038 462\n",
      "1\n"
     ]
    },
    {
     "name": "stderr",
     "output_type": "stream",
     "text": [
      "0: 384x640 2 cars, 1 truck, 98.1ms\n",
      "Speed: 1.9ms preprocess, 98.1ms inference, 0.0ms postprocess per image at shape (1, 3, 384, 640)\n",
      "\n",
      "0: 384x640 2 cars, 1 truck, 110.2ms\n",
      "Speed: 0.0ms preprocess, 110.2ms inference, 2.0ms postprocess per image at shape (1, 3, 384, 640)\n",
      "\n"
     ]
    },
    {
     "name": "stdout",
     "output_type": "stream",
     "text": [
      "249 231 526 477\n",
      "1\n",
      "414 153 643 362\n",
      "1\n",
      "766 150 1037 468\n",
      "1\n",
      "249 231 526 477\n",
      "1\n",
      "414 153 643 362\n",
      "1\n",
      "761 150 1036 474\n",
      "1\n"
     ]
    },
    {
     "name": "stderr",
     "output_type": "stream",
     "text": [
      "0: 384x640 2 cars, 1 truck, 92.7ms\n",
      "Speed: 0.0ms preprocess, 92.7ms inference, 0.0ms postprocess per image at shape (1, 3, 384, 640)\n",
      "\n",
      "0: 384x640 2 cars, 1 truck, 88.8ms\n",
      "Speed: 4.5ms preprocess, 88.8ms inference, 0.0ms postprocess per image at shape (1, 3, 384, 640)\n",
      "\n"
     ]
    },
    {
     "name": "stdout",
     "output_type": "stream",
     "text": [
      "249 231 526 477\n",
      "1\n",
      "414 153 643 362\n",
      "1\n",
      "757 152 1037 481\n",
      "1\n",
      "249 231 526 477\n",
      "1\n",
      "413 153 643 362\n",
      "1\n",
      "745 159 1026 487\n",
      "1\n"
     ]
    },
    {
     "name": "stderr",
     "output_type": "stream",
     "text": [
      "0: 384x640 2 cars, 1 truck, 90.3ms\n",
      "Speed: 0.0ms preprocess, 90.3ms inference, 0.0ms postprocess per image at shape (1, 3, 384, 640)\n",
      "\n",
      "0: 384x640 2 cars, 1 truck, 97.8ms\n",
      "Speed: 2.2ms preprocess, 97.8ms inference, 0.0ms postprocess per image at shape (1, 3, 384, 640)\n",
      "\n"
     ]
    },
    {
     "name": "stdout",
     "output_type": "stream",
     "text": [
      "249 231 526 477\n",
      "1\n",
      "414 153 643 362\n",
      "1\n",
      "741 163 1028 491\n",
      "1\n",
      "249 231 526 477\n",
      "1\n",
      "414 153 643 362\n",
      "1\n",
      "735 171 1019 498\n",
      "1\n"
     ]
    },
    {
     "name": "stderr",
     "output_type": "stream",
     "text": [
      "0: 384x640 2 cars, 1 truck, 89.7ms\n",
      "Speed: 0.0ms preprocess, 89.7ms inference, 0.0ms postprocess per image at shape (1, 3, 384, 640)\n",
      "\n",
      "0: 384x640 2 cars, 1 truck, 102.6ms\n",
      "Speed: 0.0ms preprocess, 102.6ms inference, 0.0ms postprocess per image at shape (1, 3, 384, 640)\n",
      "\n"
     ]
    },
    {
     "name": "stdout",
     "output_type": "stream",
     "text": [
      "249 232 526 477\n",
      "1\n",
      "414 153 643 362\n",
      "1\n",
      "729 194 1002 505\n",
      "1\n",
      "249 231 526 477\n",
      "1\n",
      "414 153 643 362\n",
      "1\n",
      "719 200 997 513\n",
      "1\n"
     ]
    },
    {
     "name": "stderr",
     "output_type": "stream",
     "text": [
      "0: 384x640 2 cars, 1 truck, 92.7ms\n",
      "Speed: 2.0ms preprocess, 92.7ms inference, 13.0ms postprocess per image at shape (1, 3, 384, 640)\n",
      "\n",
      "0: 384x640 2 cars, 1 truck, 83.4ms\n",
      "Speed: 0.0ms preprocess, 83.4ms inference, 0.0ms postprocess per image at shape (1, 3, 384, 640)\n",
      "\n"
     ]
    },
    {
     "name": "stdout",
     "output_type": "stream",
     "text": [
      "249 232 526 477\n",
      "1\n",
      "711 202 994 519\n",
      "1\n",
      "414 153 643 362\n",
      "1\n",
      "249 232 526 477\n",
      "1\n",
      "414 153 643 363\n",
      "1\n",
      "706 206 989 525\n",
      "1\n"
     ]
    },
    {
     "name": "stderr",
     "output_type": "stream",
     "text": [
      "0: 384x640 2 cars, 1 truck, 104.5ms\n",
      "Speed: 0.0ms preprocess, 104.5ms inference, 0.0ms postprocess per image at shape (1, 3, 384, 640)\n",
      "\n",
      "0: 384x640 3 cars, 1 truck, 92.8ms\n",
      "Speed: 1.1ms preprocess, 92.8ms inference, 0.0ms postprocess per image at shape (1, 3, 384, 640)\n",
      "\n"
     ]
    },
    {
     "name": "stdout",
     "output_type": "stream",
     "text": [
      "249 232 526 477\n",
      "1\n",
      "414 153 643 363\n",
      "1\n",
      "699 213 984 533\n",
      "1\n",
      "249 231 526 477\n",
      "1\n",
      "414 153 643 362\n",
      "1\n",
      "688 216 981 540\n",
      "1\n",
      "685 216 982 542\n",
      "1\n"
     ]
    },
    {
     "name": "stderr",
     "output_type": "stream",
     "text": [
      "0: 384x640 3 cars, 1 truck, 88.9ms\n",
      "Speed: 5.9ms preprocess, 88.9ms inference, 0.0ms postprocess per image at shape (1, 3, 384, 640)\n",
      "\n",
      "0: 384x640 3 cars, 108.5ms\n",
      "Speed: 0.0ms preprocess, 108.5ms inference, 0.0ms postprocess per image at shape (1, 3, 384, 640)\n",
      "\n"
     ]
    },
    {
     "name": "stdout",
     "output_type": "stream",
     "text": [
      "249 231 526 477\n",
      "1\n",
      "414 153 643 362\n",
      "1\n",
      "645 221 977 548\n",
      "1\n",
      "645 223 976 547\n",
      "1\n",
      "249 232 526 477\n",
      "1\n",
      "414 153 643 362\n",
      "1\n",
      "653 224 966 553\n",
      "1\n"
     ]
    },
    {
     "name": "stderr",
     "output_type": "stream",
     "text": [
      "0: 384x640 3 cars, 98.4ms\n",
      "Speed: 2.5ms preprocess, 98.4ms inference, 0.0ms postprocess per image at shape (1, 3, 384, 640)\n",
      "\n",
      "0: 384x640 3 cars, 1 truck, 100.5ms\n",
      "Speed: 0.0ms preprocess, 100.5ms inference, 0.0ms postprocess per image at shape (1, 3, 384, 640)\n",
      "\n"
     ]
    },
    {
     "name": "stdout",
     "output_type": "stream",
     "text": [
      "249 232 526 477\n",
      "1\n",
      "414 153 643 362\n",
      "1\n",
      "657 229 960 562\n",
      "1\n",
      "249 232 526 477\n",
      "1\n",
      "414 153 643 362\n",
      "1\n",
      "646 235 955 570\n",
      "1\n",
      "646 235 955 569\n",
      "1\n"
     ]
    },
    {
     "name": "stderr",
     "output_type": "stream",
     "text": [
      "0: 384x640 3 cars, 1 truck, 90.9ms\n",
      "Speed: 0.0ms preprocess, 90.9ms inference, 0.0ms postprocess per image at shape (1, 3, 384, 640)\n",
      "\n",
      "0: 384x640 3 cars, 1 truck, 105.4ms\n",
      "Speed: 0.0ms preprocess, 105.4ms inference, 0.0ms postprocess per image at shape (1, 3, 384, 640)\n",
      "\n"
     ]
    },
    {
     "name": "stdout",
     "output_type": "stream",
     "text": [
      "249 232 526 477\n",
      "1\n",
      "414 153 643 362\n",
      "1\n",
      "643 239 950 578\n",
      "1\n",
      "643 240 949 577\n",
      "1\n",
      "249 232 526 477\n",
      "1\n",
      "414 153 643 362\n",
      "1\n",
      "639 244 945 585\n",
      "1\n",
      "638 246 944 585\n",
      "1\n"
     ]
    },
    {
     "name": "stderr",
     "output_type": "stream",
     "text": [
      "0: 384x640 3 cars, 1 truck, 93.9ms\n",
      "Speed: 0.0ms preprocess, 93.9ms inference, 0.0ms postprocess per image at shape (1, 3, 384, 640)\n",
      "\n",
      "0: 384x640 3 cars, 109.4ms\n",
      "Speed: 0.0ms preprocess, 109.4ms inference, 0.0ms postprocess per image at shape (1, 3, 384, 640)\n",
      "\n"
     ]
    },
    {
     "name": "stdout",
     "output_type": "stream",
     "text": [
      "249 232 526 477\n",
      "1\n",
      "414 153 643 362\n",
      "1\n",
      "631 253 936 594\n",
      "1\n",
      "632 252 937 592\n",
      "1\n",
      "249 231 525 477\n",
      "1\n",
      "415 153 643 362\n",
      "1\n",
      "622 257 932 602\n",
      "1\n"
     ]
    },
    {
     "name": "stderr",
     "output_type": "stream",
     "text": [
      "0: 384x640 3 cars, 1 truck, 106.6ms\n",
      "Speed: 0.0ms preprocess, 106.6ms inference, 0.0ms postprocess per image at shape (1, 3, 384, 640)\n",
      "\n",
      "0: 384x640 2 cars, 1 truck, 91.6ms\n",
      "Speed: 3.1ms preprocess, 91.6ms inference, 0.0ms postprocess per image at shape (1, 3, 384, 640)\n",
      "\n"
     ]
    },
    {
     "name": "stdout",
     "output_type": "stream",
     "text": [
      "249 231 525 476\n",
      "1\n",
      "415 153 643 362\n",
      "1\n",
      "611 264 931 608\n",
      "1\n",
      "611 262 932 609\n",
      "1\n",
      "249 231 525 477\n",
      "1\n",
      "415 153 643 362\n",
      "1\n",
      "602 270 933 618\n",
      "1\n"
     ]
    },
    {
     "name": "stderr",
     "output_type": "stream",
     "text": [
      "0: 384x640 2 cars, 1 truck, 111.7ms\n",
      "Speed: 4.0ms preprocess, 111.7ms inference, 0.0ms postprocess per image at shape (1, 3, 384, 640)\n",
      "\n",
      "0: 384x640 3 cars, 1 truck, 101.0ms\n",
      "Speed: 9.2ms preprocess, 101.0ms inference, 15.6ms postprocess per image at shape (1, 3, 384, 640)\n",
      "\n"
     ]
    },
    {
     "name": "stdout",
     "output_type": "stream",
     "text": [
      "249 231 525 477\n",
      "1\n",
      "415 153 643 362\n",
      "1\n",
      "595 274 933 627\n",
      "1\n",
      "249 231 525 477\n",
      "1\n",
      "415 153 643 362\n",
      "1\n",
      "585 281 931 633\n",
      "1\n",
      "585 279 929 635\n",
      "1\n"
     ]
    },
    {
     "name": "stderr",
     "output_type": "stream",
     "text": [
      "0: 384x640 3 cars, 1 truck, 110.1ms\n",
      "Speed: 5.0ms preprocess, 110.1ms inference, 0.0ms postprocess per image at shape (1, 3, 384, 640)\n",
      "\n",
      "0: 384x640 3 cars, 101.2ms\n",
      "Speed: 0.0ms preprocess, 101.2ms inference, 0.0ms postprocess per image at shape (1, 3, 384, 640)\n",
      "\n"
     ]
    },
    {
     "name": "stdout",
     "output_type": "stream",
     "text": [
      "249 231 525 476\n",
      "1\n",
      "415 153 643 362\n",
      "1\n",
      "575 286 928 642\n",
      "1\n",
      "574 285 929 642\n",
      "1\n",
      "249 231 525 476\n",
      "1\n",
      "415 153 643 361\n",
      "1\n",
      "565 289 894 651\n",
      "1\n"
     ]
    },
    {
     "name": "stderr",
     "output_type": "stream",
     "text": [
      "0: 384x640 3 cars, 1 truck, 104.5ms\n",
      "Speed: 0.0ms preprocess, 104.5ms inference, 0.0ms postprocess per image at shape (1, 3, 384, 640)\n",
      "\n",
      "0: 384x640 3 cars, 114.1ms\n",
      "Speed: 0.0ms preprocess, 114.1ms inference, 0.5ms postprocess per image at shape (1, 3, 384, 640)\n",
      "\n"
     ]
    },
    {
     "name": "stdout",
     "output_type": "stream",
     "text": [
      "249 231 525 476\n",
      "1\n",
      "415 153 643 362\n",
      "1\n",
      "553 295 883 662\n",
      "1\n",
      "551 294 883 658\n",
      "1\n",
      "249 231 525 477\n",
      "1\n",
      "415 153 643 362\n",
      "1\n",
      "544 301 876 673\n",
      "1\n"
     ]
    },
    {
     "name": "stderr",
     "output_type": "stream",
     "text": [
      "0: 384x640 3 cars, 93.2ms\n",
      "Speed: 0.0ms preprocess, 93.2ms inference, 0.0ms postprocess per image at shape (1, 3, 384, 640)\n",
      "\n",
      "0: 384x640 3 cars, 115.6ms\n",
      "Speed: 0.0ms preprocess, 115.6ms inference, 0.0ms postprocess per image at shape (1, 3, 384, 640)\n",
      "\n"
     ]
    },
    {
     "name": "stdout",
     "output_type": "stream",
     "text": [
      "249 231 525 476\n",
      "1\n",
      "415 153 643 361\n",
      "1\n",
      "531 307 869 684\n",
      "1\n",
      "249 231 525 476\n",
      "1\n",
      "415 153 643 361\n",
      "1\n",
      "520 315 863 690\n",
      "1\n"
     ]
    },
    {
     "name": "stderr",
     "output_type": "stream",
     "text": [
      "0: 384x640 3 cars, 103.5ms\n",
      "Speed: 6.2ms preprocess, 103.5ms inference, 0.0ms postprocess per image at shape (1, 3, 384, 640)\n",
      "\n",
      "0: 384x640 3 cars, 102.6ms\n",
      "Speed: 0.0ms preprocess, 102.6ms inference, 0.0ms postprocess per image at shape (1, 3, 384, 640)\n",
      "\n"
     ]
    },
    {
     "name": "stdout",
     "output_type": "stream",
     "text": [
      "249 231 525 476\n",
      "1\n",
      "415 153 643 360\n",
      "1\n",
      "510 320 863 697\n",
      "1\n",
      "249 231 525 476\n",
      "1\n",
      "498 329 865 708\n",
      "1\n",
      "415 153 643 360\n",
      "1\n"
     ]
    },
    {
     "name": "stderr",
     "output_type": "stream",
     "text": [
      "0: 384x640 3 cars, 109.1ms\n",
      "Speed: 1.6ms preprocess, 109.1ms inference, 0.0ms postprocess per image at shape (1, 3, 384, 640)\n",
      "\n",
      "0: 384x640 3 cars, 104.3ms\n",
      "Speed: 0.0ms preprocess, 104.3ms inference, 0.0ms postprocess per image at shape (1, 3, 384, 640)\n",
      "\n"
     ]
    },
    {
     "name": "stdout",
     "output_type": "stream",
     "text": [
      "249 231 525 476\n",
      "1\n",
      "485 333 861 716\n",
      "1\n",
      "415 153 643 360\n",
      "1\n",
      "249 232 525 476\n",
      "1\n",
      "415 153 643 360\n",
      "1\n",
      "474 340 846 716\n",
      "1\n"
     ]
    },
    {
     "name": "stderr",
     "output_type": "stream",
     "text": [
      "0: 384x640 3 cars, 110.1ms\n",
      "Speed: 3.6ms preprocess, 110.1ms inference, 0.0ms postprocess per image at shape (1, 3, 384, 640)\n",
      "\n",
      "0: 384x640 3 cars, 92.7ms\n",
      "Speed: 0.0ms preprocess, 92.7ms inference, 15.6ms postprocess per image at shape (1, 3, 384, 640)\n",
      "\n"
     ]
    },
    {
     "name": "stdout",
     "output_type": "stream",
     "text": [
      "249 231 525 476\n",
      "1\n",
      "463 342 816 716\n",
      "1\n",
      "415 153 643 360\n",
      "1\n",
      "248 231 524 474\n",
      "1\n",
      "448 350 809 715\n",
      "1\n",
      "415 153 643 360\n",
      "1\n"
     ]
    },
    {
     "name": "stderr",
     "output_type": "stream",
     "text": [
      "0: 384x640 3 cars, 102.5ms\n",
      "Speed: 0.0ms preprocess, 102.5ms inference, 0.0ms postprocess per image at shape (1, 3, 384, 640)\n",
      "\n",
      "0: 384x640 3 cars, 93.2ms\n",
      "Speed: 0.0ms preprocess, 93.2ms inference, 0.0ms postprocess per image at shape (1, 3, 384, 640)\n",
      "\n"
     ]
    },
    {
     "name": "stdout",
     "output_type": "stream",
     "text": [
      "248 231 524 473\n",
      "1\n",
      "436 361 799 715\n",
      "1\n",
      "415 153 643 361\n",
      "1\n",
      "248 230 524 473\n",
      "1\n",
      "424 367 790 716\n",
      "1\n",
      "415 153 643 362\n",
      "1\n"
     ]
    },
    {
     "name": "stderr",
     "output_type": "stream",
     "text": [
      "0: 384x640 3 cars, 1 parking meter, 125.6ms\n",
      "Speed: 0.0ms preprocess, 125.6ms inference, 0.0ms postprocess per image at shape (1, 3, 384, 640)\n",
      "\n",
      "0: 384x640 3 cars, 1 parking meter, 86.7ms\n",
      "Speed: 2.3ms preprocess, 86.7ms inference, 0.0ms postprocess per image at shape (1, 3, 384, 640)\n",
      "\n"
     ]
    },
    {
     "name": "stdout",
     "output_type": "stream",
     "text": [
      "248 231 524 474\n",
      "1\n",
      "411 377 781 716\n",
      "1\n",
      "415 153 643 363\n",
      "1\n",
      "349 43 388 121\n",
      "1\n",
      "398 383 774 716\n",
      "1\n",
      "248 230 524 473\n",
      "1\n",
      "415 153 643 363\n",
      "1\n",
      "349 43 388 122\n",
      "1\n"
     ]
    },
    {
     "name": "stderr",
     "output_type": "stream",
     "text": [
      "0: 384x640 3 cars, 118.3ms\n",
      "Speed: 0.0ms preprocess, 118.3ms inference, 0.0ms postprocess per image at shape (1, 3, 384, 640)\n",
      "\n",
      "0: 384x640 3 cars, 114.3ms\n",
      "Speed: 0.0ms preprocess, 114.3ms inference, 0.0ms postprocess per image at shape (1, 3, 384, 640)\n",
      "\n"
     ]
    },
    {
     "name": "stdout",
     "output_type": "stream",
     "text": [
      "385 394 765 715\n",
      "1\n",
      "248 230 524 474\n",
      "1\n",
      "415 153 643 362\n",
      "1\n",
      "248 230 524 472\n",
      "1\n",
      "415 153 643 362\n",
      "1\n",
      "372 401 753 715\n",
      "1\n"
     ]
    },
    {
     "name": "stderr",
     "output_type": "stream",
     "text": [
      "0: 384x640 3 cars, 108.9ms\n",
      "Speed: 0.0ms preprocess, 108.9ms inference, 0.0ms postprocess per image at shape (1, 3, 384, 640)\n",
      "\n",
      "0: 384x640 3 cars, 1 parking meter, 101.3ms\n",
      "Speed: 0.0ms preprocess, 101.3ms inference, 0.0ms postprocess per image at shape (1, 3, 384, 640)\n",
      "\n"
     ]
    },
    {
     "name": "stdout",
     "output_type": "stream",
     "text": [
      "248 230 525 473\n",
      "1\n",
      "415 153 643 362\n",
      "1\n",
      "359 410 753 714\n",
      "1\n",
      "248 230 524 472\n",
      "1\n",
      "345 420 737 714\n",
      "1\n",
      "415 153 643 362\n",
      "1\n",
      "348 43 390 122\n",
      "1\n"
     ]
    },
    {
     "name": "stderr",
     "output_type": "stream",
     "text": [
      "0: 384x640 3 cars, 1 parking meter, 91.0ms\n",
      "Speed: 0.0ms preprocess, 91.0ms inference, 0.0ms postprocess per image at shape (1, 3, 384, 640)\n",
      "\n",
      "0: 384x640 3 cars, 1 parking meter, 103.5ms\n",
      "Speed: 6.6ms preprocess, 103.5ms inference, 0.0ms postprocess per image at shape (1, 3, 384, 640)\n",
      "\n"
     ]
    },
    {
     "name": "stdout",
     "output_type": "stream",
     "text": [
      "248 230 524 472\n",
      "1\n",
      "331 427 722 715\n",
      "1\n",
      "415 153 643 362\n",
      "1\n",
      "346 43 390 122\n",
      "1\n",
      "248 230 524 472\n",
      "1\n",
      "415 153 643 362\n",
      "1\n",
      "318 436 711 714\n",
      "1\n",
      "346 43 389 122\n",
      "1\n"
     ]
    },
    {
     "name": "stderr",
     "output_type": "stream",
     "text": [
      "0: 384x640 3 cars, 1 parking meter, 103.8ms\n",
      "Speed: 4.0ms preprocess, 103.8ms inference, 0.0ms postprocess per image at shape (1, 3, 384, 640)\n",
      "\n",
      "0: 384x640 3 cars, 1 parking meter, 105.3ms\n",
      "Speed: 0.0ms preprocess, 105.3ms inference, 0.0ms postprocess per image at shape (1, 3, 384, 640)\n",
      "\n"
     ]
    },
    {
     "name": "stdout",
     "output_type": "stream",
     "text": [
      "248 230 524 472\n",
      "1\n",
      "415 153 643 362\n",
      "1\n",
      "302 446 705 715\n",
      "1\n",
      "347 43 389 120\n",
      "1\n",
      "248 230 524 473\n",
      "1\n",
      "415 153 643 362\n",
      "1\n",
      "289 455 699 716\n",
      "1\n",
      "348 43 389 119\n",
      "1\n"
     ]
    },
    {
     "name": "stderr",
     "output_type": "stream",
     "text": [
      "0: 384x640 3 cars, 1 parking meter, 86.8ms\n",
      "Speed: 4.6ms preprocess, 86.8ms inference, 15.6ms postprocess per image at shape (1, 3, 384, 640)\n",
      "\n",
      "0: 384x640 3 cars, 1 parking meter, 99.6ms\n",
      "Speed: 0.0ms preprocess, 99.6ms inference, 0.0ms postprocess per image at shape (1, 3, 384, 640)\n",
      "\n"
     ]
    },
    {
     "name": "stdout",
     "output_type": "stream",
     "text": [
      "248 230 524 473\n",
      "1\n",
      "415 153 643 362\n",
      "1\n",
      "246 463 686 712\n",
      "1\n",
      "350 42 389 118\n",
      "1\n",
      "248 230 524 474\n",
      "1\n",
      "415 153 643 362\n",
      "1\n",
      "252 474 668 713\n",
      "1\n",
      "350 42 389 117\n",
      "1\n"
     ]
    },
    {
     "name": "stderr",
     "output_type": "stream",
     "text": [
      "0: 384x640 3 cars, 1 parking meter, 118.1ms\n",
      "Speed: 0.0ms preprocess, 118.1ms inference, 0.0ms postprocess per image at shape (1, 3, 384, 640)\n",
      "\n",
      "0: 384x640 3 cars, 1 parking meter, 108.4ms\n",
      "Speed: 0.0ms preprocess, 108.4ms inference, 0.0ms postprocess per image at shape (1, 3, 384, 640)\n",
      "\n"
     ]
    },
    {
     "name": "stdout",
     "output_type": "stream",
     "text": [
      "248 230 524 475\n",
      "1\n",
      "415 153 643 362\n",
      "1\n",
      "193 473 656 715\n",
      "1\n",
      "351 42 390 117\n",
      "1\n",
      "248 230 525 477\n",
      "1\n",
      "415 153 643 362\n",
      "1\n",
      "350 42 390 116\n",
      "1\n",
      "199 471 642 717\n",
      "1\n"
     ]
    },
    {
     "name": "stderr",
     "output_type": "stream",
     "text": [
      "0: 384x640 3 cars, 1 parking meter, 96.1ms\n",
      "Speed: 1.4ms preprocess, 96.1ms inference, 0.0ms postprocess per image at shape (1, 3, 384, 640)\n",
      "\n",
      "0: 384x640 3 cars, 1 parking meter, 109.4ms\n",
      "Speed: 0.0ms preprocess, 109.4ms inference, 0.0ms postprocess per image at shape (1, 3, 384, 640)\n",
      "\n"
     ]
    },
    {
     "name": "stdout",
     "output_type": "stream",
     "text": [
      "248 230 525 478\n",
      "1\n",
      "415 153 643 362\n",
      "1\n",
      "189 471 628 718\n",
      "1\n",
      "350 41 391 116\n",
      "1\n",
      "248 230 525 478\n",
      "1\n",
      "415 153 643 362\n",
      "1\n",
      "187 481 617 715\n",
      "1\n",
      "349 41 391 116\n",
      "1\n"
     ]
    },
    {
     "name": "stderr",
     "output_type": "stream",
     "text": [
      "0: 384x640 3 cars, 1 parking meter, 100.2ms\n",
      "Speed: 2.2ms preprocess, 100.2ms inference, 0.0ms postprocess per image at shape (1, 3, 384, 640)\n",
      "\n"
     ]
    },
    {
     "name": "stdout",
     "output_type": "stream",
     "text": [
      "249 230 525 477\n",
      "1\n",
      "415 153 643 362\n",
      "1\n",
      "186 529 602 714\n",
      "1\n",
      "350 42 391 118\n",
      "1\n"
     ]
    },
    {
     "name": "stderr",
     "output_type": "stream",
     "text": [
      "0: 384x640 3 cars, 1 parking meter, 193.1ms\n",
      "Speed: 5.2ms preprocess, 193.1ms inference, 0.0ms postprocess per image at shape (1, 3, 384, 640)\n",
      "\n"
     ]
    },
    {
     "name": "stdout",
     "output_type": "stream",
     "text": [
      "249 230 525 477\n",
      "1\n",
      "415 153 643 362\n",
      "1\n",
      "187 540 589 718\n",
      "1\n",
      "350 41 391 118\n",
      "1\n"
     ]
    },
    {
     "name": "stderr",
     "output_type": "stream",
     "text": [
      "0: 384x640 3 cars, 192.0ms\n",
      "Speed: 1.1ms preprocess, 192.0ms inference, 0.0ms postprocess per image at shape (1, 3, 384, 640)\n",
      "\n",
      "0: 384x640 3 cars, 117.8ms\n",
      "Speed: 0.0ms preprocess, 117.8ms inference, 0.0ms postprocess per image at shape (1, 3, 384, 640)\n",
      "\n"
     ]
    },
    {
     "name": "stdout",
     "output_type": "stream",
     "text": [
      "249 230 525 477\n",
      "1\n",
      "415 153 643 362\n",
      "1\n",
      "176 550 575 718\n",
      "1\n",
      "249 230 525 477\n",
      "1\n",
      "415 153 642 362\n",
      "1\n",
      "167 562 559 717\n",
      "1\n"
     ]
    },
    {
     "name": "stderr",
     "output_type": "stream",
     "text": [
      "0: 384x640 3 cars, 115.8ms\n",
      "Speed: 0.0ms preprocess, 115.8ms inference, 0.0ms postprocess per image at shape (1, 3, 384, 640)\n",
      "\n",
      "0: 384x640 3 cars, 1 parking meter, 173.9ms\n"
     ]
    },
    {
     "name": "stdout",
     "output_type": "stream",
     "text": [
      "249 230 525 476\n",
      "1\n",
      "415 153 642 362\n",
      "1\n",
      "155 573 544 714\n",
      "1\n",
      "249 230 525 477\n",
      "1\n",
      "143 585 528 714\n",
      "1\n",
      "415 153 642 362\n",
      "1\n",
      "349 42 390 116\n",
      "1\n"
     ]
    },
    {
     "name": "stderr",
     "output_type": "stream",
     "text": [
      "Speed: 0.0ms preprocess, 173.9ms inference, 0.0ms postprocess per image at shape (1, 3, 384, 640)\n",
      "\n",
      "0: 384x640 3 cars, 1 parking meter, 149.1ms\n",
      "Speed: 2.2ms preprocess, 149.1ms inference, 0.0ms postprocess per image at shape (1, 3, 384, 640)\n",
      "\n",
      "0: 384x640 4 cars, 1 airplane, 1 parking meter, 125.4ms\n",
      "Speed: 6.2ms preprocess, 125.4ms inference, 6.0ms postprocess per image at shape (1, 3, 384, 640)\n",
      "\n"
     ]
    },
    {
     "name": "stdout",
     "output_type": "stream",
     "text": [
      "249 230 525 476\n",
      "1\n",
      "415 153 643 362\n",
      "1\n",
      "141 599 511 718\n",
      "1\n",
      "349 42 391 116\n",
      "1\n",
      "249 230 525 476\n",
      "1\n",
      "414 153 643 362\n",
      "1\n",
      "127 612 492 715\n",
      "1\n",
      "1249 31 1279 128\n",
      "1\n",
      "352 42 391 116\n",
      "1\n",
      "966 330 1199 440\n",
      "1\n"
     ]
    },
    {
     "name": "stderr",
     "output_type": "stream",
     "text": [
      "0: 384x640 4 cars, 121.6ms\n",
      "Speed: 4.3ms preprocess, 121.6ms inference, 0.0ms postprocess per image at shape (1, 3, 384, 640)\n",
      "\n",
      "0: 384x640 4 cars, 1 airplane, 119.5ms\n",
      "Speed: 0.0ms preprocess, 119.5ms inference, 0.0ms postprocess per image at shape (1, 3, 384, 640)\n",
      "\n"
     ]
    },
    {
     "name": "stdout",
     "output_type": "stream",
     "text": [
      "249 230 525 476\n",
      "1\n",
      "414 153 643 362\n",
      "1\n",
      "1240 10 1279 131\n",
      "1\n",
      "124 625 471 718\n",
      "1\n",
      "249 230 525 476\n",
      "1\n",
      "414 153 643 362\n",
      "1\n",
      "1231 7 1279 134\n",
      "1\n",
      "121 638 452 720\n",
      "1\n",
      "966 330 1199 440\n",
      "1\n"
     ]
    },
    {
     "name": "stderr",
     "output_type": "stream",
     "text": [
      "0: 384x640 3 cars, 1 airplane, 113.2ms\n",
      "Speed: 15.6ms preprocess, 113.2ms inference, 0.0ms postprocess per image at shape (1, 3, 384, 640)\n",
      "\n",
      "0: 384x640 3 cars, 1 airplane, 90.3ms\n",
      "Speed: 0.0ms preprocess, 90.3ms inference, 0.0ms postprocess per image at shape (1, 3, 384, 640)\n",
      "\n"
     ]
    },
    {
     "name": "stdout",
     "output_type": "stream",
     "text": [
      "249 230 525 477\n",
      "1\n",
      "414 153 643 362\n",
      "1\n",
      "1220 2 1279 136\n",
      "1\n",
      "966 330 1200 440\n",
      "1\n",
      "249 230 525 476\n",
      "1\n",
      "414 153 643 362\n",
      "1\n",
      "1212 0 1279 138\n",
      "1\n",
      "966 330 1200 439\n",
      "1\n"
     ]
    },
    {
     "name": "stderr",
     "output_type": "stream",
     "text": [
      "0: 384x640 3 cars, 1 airplane, 108.6ms\n",
      "Speed: 0.0ms preprocess, 108.6ms inference, 0.0ms postprocess per image at shape (1, 3, 384, 640)\n",
      "\n",
      "0: 384x640 3 cars, 1 airplane, 101.1ms\n",
      "Speed: 0.0ms preprocess, 101.1ms inference, 0.0ms postprocess per image at shape (1, 3, 384, 640)\n",
      "\n"
     ]
    },
    {
     "name": "stdout",
     "output_type": "stream",
     "text": [
      "249 230 525 476\n",
      "1\n",
      "414 153 643 362\n",
      "1\n",
      "1202 0 1279 140\n",
      "1\n",
      "966 330 1200 439\n",
      "1\n",
      "249 230 525 476\n",
      "1\n",
      "1195 0 1279 142\n",
      "1\n",
      "414 153 643 362\n",
      "1\n",
      "966 330 1200 439\n",
      "1\n"
     ]
    },
    {
     "name": "stderr",
     "output_type": "stream",
     "text": [
      "0: 384x640 3 cars, 1 airplane, 1 parking meter, 91.1ms\n",
      "Speed: 2.9ms preprocess, 91.1ms inference, 0.0ms postprocess per image at shape (1, 3, 384, 640)\n",
      "\n",
      "0: 384x640 3 cars, 1 airplane, 100.8ms\n",
      "Speed: 2.8ms preprocess, 100.8ms inference, 0.0ms postprocess per image at shape (1, 3, 384, 640)\n",
      "\n"
     ]
    },
    {
     "name": "stdout",
     "output_type": "stream",
     "text": [
      "249 230 525 476\n",
      "1\n",
      "1187 0 1279 144\n",
      "1\n",
      "415 153 643 362\n",
      "1\n",
      "966 330 1200 439\n",
      "1\n",
      "351 44 392 110\n",
      "1\n",
      "1179 0 1279 147\n",
      "1\n",
      "249 231 525 477\n",
      "1\n",
      "415 153 643 363\n",
      "1\n",
      "966 329 1199 439\n",
      "1\n"
     ]
    },
    {
     "name": "stderr",
     "output_type": "stream",
     "text": [
      "0: 384x640 3 cars, 1 parking meter, 109.8ms\n",
      "Speed: 0.0ms preprocess, 109.8ms inference, 0.0ms postprocess per image at shape (1, 3, 384, 640)\n",
      "\n",
      "0: 384x640 3 cars, 127.7ms\n",
      "Speed: 0.0ms preprocess, 127.7ms inference, 0.0ms postprocess per image at shape (1, 3, 384, 640)\n",
      "\n"
     ]
    },
    {
     "name": "stdout",
     "output_type": "stream",
     "text": [
      "1168 0 1279 150\n",
      "1\n",
      "249 231 525 476\n",
      "1\n",
      "415 153 642 363\n",
      "1\n",
      "353 44 390 110\n",
      "1\n",
      "1161 0 1279 154\n",
      "1\n",
      "249 231 525 476\n",
      "1\n",
      "415 153 642 363\n",
      "1\n"
     ]
    },
    {
     "name": "stderr",
     "output_type": "stream",
     "text": [
      "0: 384x640 3 cars, 1 airplane, 109.6ms\n",
      "Speed: 0.0ms preprocess, 109.6ms inference, 0.0ms postprocess per image at shape (1, 3, 384, 640)\n",
      "\n",
      "0: 384x640 3 cars, 1 airplane, 102.6ms\n",
      "Speed: 2.3ms preprocess, 102.6ms inference, 0.0ms postprocess per image at shape (1, 3, 384, 640)\n",
      "\n"
     ]
    },
    {
     "name": "stdout",
     "output_type": "stream",
     "text": [
      "1154 0 1279 155\n",
      "1\n",
      "249 231 525 476\n",
      "1\n",
      "415 153 642 363\n",
      "1\n",
      "966 329 1199 439\n",
      "1\n",
      "1147 0 1279 161\n",
      "1\n",
      "249 231 525 477\n",
      "1\n",
      "415 153 642 363\n",
      "1\n",
      "966 329 1199 439\n",
      "1\n"
     ]
    },
    {
     "name": "stderr",
     "output_type": "stream",
     "text": [
      "0: 384x640 3 cars, 1 airplane, 109.5ms\n",
      "Speed: 0.0ms preprocess, 109.5ms inference, 0.0ms postprocess per image at shape (1, 3, 384, 640)\n",
      "\n",
      "0: 384x640 4 cars, 108.5ms\n",
      "Speed: 0.0ms preprocess, 108.5ms inference, 0.0ms postprocess per image at shape (1, 3, 384, 640)\n",
      "\n"
     ]
    },
    {
     "name": "stdout",
     "output_type": "stream",
     "text": [
      "1138 0 1279 164\n",
      "1\n",
      "249 231 525 477\n",
      "1\n",
      "415 153 643 363\n",
      "1\n",
      "966 329 1199 439\n",
      "1\n",
      "1131 0 1279 168\n",
      "1\n",
      "249 231 526 477\n",
      "1\n",
      "414 153 643 363\n",
      "1\n",
      "648 45 668 71\n",
      "1\n"
     ]
    },
    {
     "name": "stderr",
     "output_type": "stream",
     "text": [
      "0: 384x640 4 cars, 110.5ms\n",
      "Speed: 0.0ms preprocess, 110.5ms inference, 0.0ms postprocess per image at shape (1, 3, 384, 640)\n",
      "\n",
      "0: 384x640 4 cars, 105.7ms\n",
      "Speed: 0.0ms preprocess, 105.7ms inference, 0.0ms postprocess per image at shape (1, 3, 384, 640)\n",
      "\n"
     ]
    },
    {
     "name": "stdout",
     "output_type": "stream",
     "text": [
      "1124 0 1279 172\n",
      "1\n",
      "249 231 526 477\n",
      "1\n",
      "414 153 643 363\n",
      "1\n",
      "648 45 668 71\n",
      "1\n",
      "1116 0 1279 173\n",
      "1\n",
      "249 231 526 477\n",
      "1\n",
      "414 153 643 363\n",
      "1\n",
      "648 45 668 71\n",
      "1\n"
     ]
    },
    {
     "name": "stderr",
     "output_type": "stream",
     "text": [
      "0: 384x640 4 cars, 94.1ms\n",
      "Speed: 0.0ms preprocess, 94.1ms inference, 0.0ms postprocess per image at shape (1, 3, 384, 640)\n",
      "\n",
      "0: 384x640 4 cars, 103.3ms\n",
      "Speed: 0.0ms preprocess, 103.3ms inference, 0.0ms postprocess per image at shape (1, 3, 384, 640)\n",
      "\n"
     ]
    },
    {
     "name": "stdout",
     "output_type": "stream",
     "text": [
      "249 231 526 477\n",
      "1\n",
      "1109 0 1279 178\n",
      "1\n",
      "414 153 643 363\n",
      "1\n",
      "649 45 668 71\n",
      "1\n",
      "1102 0 1279 182\n",
      "1\n",
      "249 231 526 477\n",
      "1\n",
      "414 153 643 363\n",
      "1\n",
      "648 45 668 71\n",
      "1\n"
     ]
    },
    {
     "name": "stderr",
     "output_type": "stream",
     "text": [
      "0: 384x640 3 cars, 110.0ms\n",
      "Speed: 0.0ms preprocess, 110.0ms inference, 0.0ms postprocess per image at shape (1, 3, 384, 640)\n",
      "\n",
      "0: 384x640 4 cars, 93.7ms\n",
      "Speed: 0.0ms preprocess, 93.7ms inference, 15.6ms postprocess per image at shape (1, 3, 384, 640)\n",
      "\n"
     ]
    },
    {
     "name": "stdout",
     "output_type": "stream",
     "text": [
      "249 231 526 477\n",
      "1\n",
      "1095 0 1279 187\n",
      "1\n",
      "414 153 643 363\n",
      "1\n",
      "249 231 526 477\n",
      "1\n",
      "1088 0 1280 190\n",
      "1\n",
      "414 153 643 363\n",
      "1\n",
      "648 45 668 71\n",
      "1\n"
     ]
    },
    {
     "name": "stderr",
     "output_type": "stream",
     "text": [
      "0: 384x640 4 cars, 109.5ms\n",
      "Speed: 8.0ms preprocess, 109.5ms inference, 0.0ms postprocess per image at shape (1, 3, 384, 640)\n",
      "\n",
      "0: 384x640 4 cars, 107.0ms\n",
      "Speed: 0.0ms preprocess, 107.0ms inference, 11.5ms postprocess per image at shape (1, 3, 384, 640)\n",
      "\n"
     ]
    },
    {
     "name": "stdout",
     "output_type": "stream",
     "text": [
      "249 231 526 477\n",
      "1\n",
      "1083 0 1280 196\n",
      "1\n",
      "414 153 643 363\n",
      "1\n",
      "649 45 668 71\n",
      "1\n",
      "249 231 526 477\n",
      "1\n",
      "1076 0 1279 199\n",
      "1\n",
      "414 153 643 363\n",
      "1\n",
      "648 45 668 71\n",
      "1\n"
     ]
    },
    {
     "name": "stderr",
     "output_type": "stream",
     "text": [
      "0: 384x640 4 cars, 116.7ms\n",
      "Speed: 0.0ms preprocess, 116.7ms inference, 0.0ms postprocess per image at shape (1, 3, 384, 640)\n",
      "\n",
      "0: 384x640 4 cars, 108.2ms\n",
      "Speed: 5.7ms preprocess, 108.2ms inference, 0.0ms postprocess per image at shape (1, 3, 384, 640)\n",
      "\n"
     ]
    },
    {
     "name": "stdout",
     "output_type": "stream",
     "text": [
      "249 231 526 477\n",
      "1\n",
      "1070 1 1279 202\n",
      "1\n",
      "414 153 643 363\n",
      "1\n",
      "648 45 668 71\n",
      "1\n",
      "249 231 526 477\n",
      "1\n",
      "414 153 643 363\n",
      "1\n",
      "1063 5 1279 207\n",
      "1\n",
      "648 45 668 71\n",
      "1\n"
     ]
    },
    {
     "name": "stderr",
     "output_type": "stream",
     "text": [
      "0: 384x640 4 cars, 94.4ms\n",
      "Speed: 5.5ms preprocess, 94.4ms inference, 0.0ms postprocess per image at shape (1, 3, 384, 640)\n",
      "\n",
      "0: 384x640 3 cars, 109.9ms\n",
      "Speed: 3.5ms preprocess, 109.9ms inference, 0.0ms postprocess per image at shape (1, 3, 384, 640)\n",
      "\n"
     ]
    },
    {
     "name": "stdout",
     "output_type": "stream",
     "text": [
      "249 231 526 477\n",
      "1\n",
      "414 153 643 363\n",
      "1\n",
      "1057 7 1279 214\n",
      "1\n",
      "648 45 668 71\n",
      "1\n",
      "1054 9 1280 217\n",
      "1\n",
      "249 231 526 477\n",
      "1\n",
      "414 153 643 363\n",
      "1\n"
     ]
    },
    {
     "name": "stderr",
     "output_type": "stream",
     "text": [
      "0: 384x640 3 cars, 110.2ms\n",
      "Speed: 0.0ms preprocess, 110.2ms inference, 0.0ms postprocess per image at shape (1, 3, 384, 640)\n",
      "\n",
      "0: 384x640 3 cars, 101.3ms\n",
      "Speed: 0.0ms preprocess, 101.3ms inference, 0.0ms postprocess per image at shape (1, 3, 384, 640)\n",
      "\n"
     ]
    },
    {
     "name": "stdout",
     "output_type": "stream",
     "text": [
      "249 231 526 477\n",
      "1\n",
      "414 153 643 363\n",
      "1\n",
      "1047 13 1279 220\n",
      "1\n",
      "249 231 526 477\n",
      "1\n",
      "414 153 643 363\n",
      "1\n",
      "1039 15 1279 223\n",
      "1\n"
     ]
    },
    {
     "name": "stderr",
     "output_type": "stream",
     "text": [
      "0: 384x640 3 cars, 96.8ms\n",
      "Speed: 0.0ms preprocess, 96.8ms inference, 0.0ms postprocess per image at shape (1, 3, 384, 640)\n",
      "\n",
      "0: 384x640 3 cars, 103.2ms\n",
      "Speed: 0.0ms preprocess, 103.2ms inference, 0.0ms postprocess per image at shape (1, 3, 384, 640)\n",
      "\n"
     ]
    },
    {
     "name": "stdout",
     "output_type": "stream",
     "text": [
      "249 231 526 477\n",
      "1\n",
      "1034 17 1279 229\n",
      "1\n",
      "414 153 643 363\n",
      "1\n",
      "249 231 526 477\n",
      "1\n",
      "1028 23 1279 232\n",
      "1\n",
      "413 153 643 363\n",
      "1\n"
     ]
    },
    {
     "name": "stderr",
     "output_type": "stream",
     "text": [
      "0: 384x640 3 cars, 105.1ms\n",
      "Speed: 4.0ms preprocess, 105.1ms inference, 0.0ms postprocess per image at shape (1, 3, 384, 640)\n",
      "\n",
      "0: 384x640 3 cars, 109.5ms\n",
      "Speed: 0.0ms preprocess, 109.5ms inference, 0.0ms postprocess per image at shape (1, 3, 384, 640)\n",
      "\n"
     ]
    },
    {
     "name": "stdout",
     "output_type": "stream",
     "text": [
      "249 231 526 477\n",
      "1\n",
      "1025 27 1278 237\n",
      "1\n",
      "413 153 643 363\n",
      "1\n",
      "249 231 526 477\n",
      "1\n",
      "1021 31 1278 239\n",
      "1\n",
      "414 153 643 363\n",
      "1\n"
     ]
    },
    {
     "name": "stderr",
     "output_type": "stream",
     "text": [
      "0: 384x640 3 cars, 90.5ms\n",
      "Speed: 3.7ms preprocess, 90.5ms inference, 0.0ms postprocess per image at shape (1, 3, 384, 640)\n",
      "\n",
      "0: 384x640 3 cars, 120.6ms\n",
      "Speed: 0.0ms preprocess, 120.6ms inference, 0.0ms postprocess per image at shape (1, 3, 384, 640)\n",
      "\n"
     ]
    },
    {
     "name": "stdout",
     "output_type": "stream",
     "text": [
      "249 231 526 477\n",
      "1\n",
      "1016 33 1273 245\n",
      "1\n",
      "414 153 643 363\n",
      "1\n",
      "249 231 526 477\n",
      "1\n",
      "413 153 643 363\n",
      "1\n",
      "1009 37 1270 249\n",
      "1\n"
     ]
    },
    {
     "name": "stderr",
     "output_type": "stream",
     "text": [
      "0: 384x640 3 cars, 110.0ms\n",
      "Speed: 0.0ms preprocess, 110.0ms inference, 0.0ms postprocess per image at shape (1, 3, 384, 640)\n",
      "\n",
      "0: 384x640 3 cars, 103.3ms\n",
      "Speed: 0.0ms preprocess, 103.3ms inference, 0.0ms postprocess per image at shape (1, 3, 384, 640)\n",
      "\n"
     ]
    },
    {
     "name": "stdout",
     "output_type": "stream",
     "text": [
      "249 231 526 477\n",
      "1\n",
      "414 153 643 363\n",
      "1\n",
      "1005 41 1262 252\n",
      "1\n",
      "249 231 526 477\n",
      "1\n",
      "414 153 643 363\n",
      "1\n",
      "999 43 1255 257\n",
      "1\n"
     ]
    },
    {
     "name": "stderr",
     "output_type": "stream",
     "text": [
      "0: 384x640 1 person, 3 cars, 108.8ms\n",
      "Speed: 1.1ms preprocess, 108.8ms inference, 0.0ms postprocess per image at shape (1, 3, 384, 640)\n",
      "\n",
      "0: 384x640 1 person, 3 cars, 109.7ms\n",
      "Speed: 15.6ms preprocess, 109.7ms inference, 0.0ms postprocess per image at shape (1, 3, 384, 640)\n",
      "\n"
     ]
    },
    {
     "name": "stdout",
     "output_type": "stream",
     "text": [
      "249 231 526 477\n",
      "1\n",
      "993 46 1250 262\n",
      "1\n",
      "414 153 642 362\n",
      "1\n",
      "426 1 466 99\n",
      "1\n",
      "249 231 525 477\n",
      "1\n",
      "990 50 1246 267\n",
      "1\n",
      "414 153 642 362\n",
      "1\n",
      "424 1 467 98\n",
      "1\n"
     ]
    },
    {
     "name": "stderr",
     "output_type": "stream",
     "text": [
      "0: 384x640 3 cars, 109.7ms\n",
      "Speed: 0.0ms preprocess, 109.7ms inference, 0.0ms postprocess per image at shape (1, 3, 384, 640)\n",
      "\n",
      "0: 384x640 3 cars, 88.2ms\n",
      "Speed: 0.0ms preprocess, 88.2ms inference, 0.0ms postprocess per image at shape (1, 3, 384, 640)\n",
      "\n"
     ]
    },
    {
     "name": "stdout",
     "output_type": "stream",
     "text": [
      "249 231 526 477\n",
      "1\n",
      "413 153 642 362\n",
      "1\n",
      "985 54 1241 270\n",
      "1\n",
      "249 231 526 477\n",
      "1\n",
      "413 153 642 362\n",
      "1\n",
      "980 56 1235 278\n",
      "1\n"
     ]
    },
    {
     "name": "stderr",
     "output_type": "stream",
     "text": [
      "0: 384x640 1 person, 3 cars, 91.2ms\n",
      "Speed: 0.0ms preprocess, 91.2ms inference, 0.0ms postprocess per image at shape (1, 3, 384, 640)\n",
      "\n",
      "0: 384x640 3 cars, 100.3ms\n",
      "Speed: 0.0ms preprocess, 100.3ms inference, 0.0ms postprocess per image at shape (1, 3, 384, 640)\n",
      "\n"
     ]
    },
    {
     "name": "stdout",
     "output_type": "stream",
     "text": [
      "249 231 526 477\n",
      "1\n",
      "975 60 1231 283\n",
      "1\n",
      "413 153 642 362\n",
      "1\n",
      "426 0 467 98\n",
      "1\n",
      "249 231 526 477\n",
      "1\n",
      "967 65 1228 287\n",
      "1\n",
      "414 153 642 362\n",
      "1\n"
     ]
    },
    {
     "name": "stderr",
     "output_type": "stream",
     "text": [
      "0: 384x640 3 cars, 113.8ms\n",
      "Speed: 0.0ms preprocess, 113.8ms inference, 0.0ms postprocess per image at shape (1, 3, 384, 640)\n",
      "\n",
      "0: 384x640 1 person, 3 cars, 108.0ms\n",
      "Speed: 0.0ms preprocess, 108.0ms inference, 0.0ms postprocess per image at shape (1, 3, 384, 640)\n",
      "\n"
     ]
    },
    {
     "name": "stdout",
     "output_type": "stream",
     "text": [
      "249 231 526 477\n",
      "1\n",
      "960 67 1222 294\n",
      "1\n",
      "414 153 642 363\n",
      "1\n",
      "249 231 526 477\n",
      "1\n",
      "960 70 1220 297\n",
      "1\n",
      "414 153 642 363\n",
      "1\n",
      "430 0 470 97\n",
      "1\n"
     ]
    },
    {
     "name": "stderr",
     "output_type": "stream",
     "text": [
      "0: 384x640 1 person, 3 cars, 111.3ms\n",
      "Speed: 0.0ms preprocess, 111.3ms inference, 0.0ms postprocess per image at shape (1, 3, 384, 640)\n",
      "\n",
      "0: 384x640 1 person, 3 cars, 99.6ms\n",
      "Speed: 0.0ms preprocess, 99.6ms inference, 0.0ms postprocess per image at shape (1, 3, 384, 640)\n",
      "\n"
     ]
    },
    {
     "name": "stdout",
     "output_type": "stream",
     "text": [
      "249 231 526 477\n",
      "1\n",
      "955 73 1219 302\n",
      "1\n",
      "413 153 642 362\n",
      "1\n",
      "430 0 470 97\n",
      "1\n",
      "249 231 525 477\n",
      "1\n",
      "413 153 642 362\n",
      "1\n",
      "952 77 1214 307\n",
      "1\n",
      "432 0 470 97\n",
      "1\n"
     ]
    },
    {
     "name": "stderr",
     "output_type": "stream",
     "text": [
      "0: 384x640 2 persons, 3 cars, 100.8ms\n",
      "Speed: 0.0ms preprocess, 100.8ms inference, 0.0ms postprocess per image at shape (1, 3, 384, 640)\n",
      "\n",
      "0: 384x640 1 person, 3 cars, 109.9ms\n",
      "Speed: 0.0ms preprocess, 109.9ms inference, 0.0ms postprocess per image at shape (1, 3, 384, 640)\n",
      "\n"
     ]
    },
    {
     "name": "stdout",
     "output_type": "stream",
     "text": [
      "249 231 525 476\n",
      "1\n",
      "947 81 1203 312\n",
      "1\n",
      "413 153 642 362\n",
      "1\n",
      "431 0 494 96\n",
      "1\n",
      "429 1 475 96\n",
      "1\n",
      "249 231 525 477\n",
      "1\n",
      "413 153 642 362\n",
      "1\n",
      "943 85 1200 317\n",
      "1\n",
      "431 0 495 95\n",
      "1\n"
     ]
    },
    {
     "name": "stderr",
     "output_type": "stream",
     "text": [
      "0: 384x640 2 persons, 3 cars, 103.6ms\n",
      "Speed: 0.0ms preprocess, 103.6ms inference, 0.0ms postprocess per image at shape (1, 3, 384, 640)\n",
      "\n",
      "0: 384x640 3 cars, 122.8ms\n",
      "Speed: 0.0ms preprocess, 122.8ms inference, 0.0ms postprocess per image at shape (1, 3, 384, 640)\n",
      "\n"
     ]
    },
    {
     "name": "stdout",
     "output_type": "stream",
     "text": [
      "249 231 525 477\n",
      "1\n",
      "413 153 642 362\n",
      "1\n",
      "939 89 1197 322\n",
      "1\n",
      "433 0 493 96\n",
      "1\n",
      "432 0 473 96\n",
      "1\n",
      "249 231 525 477\n",
      "1\n",
      "413 153 642 362\n",
      "1\n",
      "934 93 1193 326\n",
      "1\n"
     ]
    },
    {
     "name": "stderr",
     "output_type": "stream",
     "text": [
      "0: 384x640 3 cars, 100.4ms\n",
      "Speed: 0.0ms preprocess, 100.4ms inference, 0.0ms postprocess per image at shape (1, 3, 384, 640)\n",
      "\n",
      "0: 384x640 1 person, 3 cars, 117.6ms\n",
      "Speed: 0.0ms preprocess, 117.6ms inference, 0.0ms postprocess per image at shape (1, 3, 384, 640)\n",
      "\n"
     ]
    },
    {
     "name": "stdout",
     "output_type": "stream",
     "text": [
      "249 231 526 477\n",
      "1\n",
      "930 96 1188 331\n",
      "1\n",
      "414 153 643 363\n",
      "1\n",
      "249 231 525 477\n",
      "1\n",
      "925 102 1185 335\n",
      "1\n",
      "413 153 642 363\n",
      "1\n",
      "436 0 477 97\n",
      "1\n"
     ]
    },
    {
     "name": "stderr",
     "output_type": "stream",
     "text": [
      "0: 384x640 3 cars, 97.5ms\n",
      "Speed: 0.0ms preprocess, 97.5ms inference, 0.0ms postprocess per image at shape (1, 3, 384, 640)\n",
      "\n",
      "0: 384x640 1 person, 3 cars, 93.5ms\n",
      "Speed: 0.0ms preprocess, 93.5ms inference, 0.0ms postprocess per image at shape (1, 3, 384, 640)\n",
      "\n"
     ]
    },
    {
     "name": "stdout",
     "output_type": "stream",
     "text": [
      "249 231 525 477\n",
      "1\n",
      "920 105 1181 341\n",
      "1\n",
      "414 153 642 363\n",
      "1\n",
      "249 231 526 476\n",
      "1\n",
      "915 110 1177 348\n",
      "1\n",
      "413 153 642 363\n",
      "1\n",
      "439 0 476 95\n",
      "1\n"
     ]
    },
    {
     "name": "stderr",
     "output_type": "stream",
     "text": [
      "0: 384x640 1 person, 3 cars, 105.0ms\n",
      "Speed: 2.3ms preprocess, 105.0ms inference, 11.5ms postprocess per image at shape (1, 3, 384, 640)\n",
      "\n",
      "0: 384x640 1 person, 3 cars, 113.6ms\n",
      "Speed: 0.0ms preprocess, 113.6ms inference, 0.0ms postprocess per image at shape (1, 3, 384, 640)\n",
      "\n"
     ]
    },
    {
     "name": "stdout",
     "output_type": "stream",
     "text": [
      "249 231 526 476\n",
      "1\n",
      "909 114 1171 354\n",
      "1\n",
      "413 154 642 362\n",
      "1\n",
      "440 0 478 96\n",
      "1\n",
      "903 117 1169 361\n",
      "1\n",
      "249 231 525 477\n",
      "1\n",
      "414 153 642 362\n",
      "1\n",
      "439 0 479 95\n",
      "1\n"
     ]
    },
    {
     "name": "stderr",
     "output_type": "stream",
     "text": [
      "0: 384x640 3 cars, 109.7ms\n",
      "Speed: 5.5ms preprocess, 109.7ms inference, 0.0ms postprocess per image at shape (1, 3, 384, 640)\n",
      "\n",
      "0: 384x640 1 person, 3 cars, 112.5ms\n",
      "Speed: 2.5ms preprocess, 112.5ms inference, 0.0ms postprocess per image at shape (1, 3, 384, 640)\n",
      "\n"
     ]
    },
    {
     "name": "stdout",
     "output_type": "stream",
     "text": [
      "249 232 525 477\n",
      "1\n",
      "897 123 1166 365\n",
      "1\n",
      "412 155 643 362\n",
      "1\n",
      "249 230 525 478\n",
      "1\n",
      "892 124 1162 372\n",
      "1\n",
      "415 152 642 362\n",
      "1\n",
      "441 0 482 93\n",
      "1\n"
     ]
    },
    {
     "name": "stderr",
     "output_type": "stream",
     "text": [
      "0: 384x640 1 person, 3 cars, 138.7ms\n",
      "Speed: 0.0ms preprocess, 138.7ms inference, 0.0ms postprocess per image at shape (1, 3, 384, 640)\n",
      "\n",
      "0: 384x640 1 person, 3 cars, 108.3ms\n",
      "Speed: 0.0ms preprocess, 108.3ms inference, 0.0ms postprocess per image at shape (1, 3, 384, 640)\n",
      "\n"
     ]
    },
    {
     "name": "stdout",
     "output_type": "stream",
     "text": [
      "249 233 525 476\n",
      "1\n",
      "888 130 1157 379\n",
      "1\n",
      "412 155 643 362\n",
      "1\n",
      "440 0 483 94\n",
      "1\n",
      "249 231 526 477\n",
      "1\n",
      "881 134 1153 384\n",
      "1\n",
      "414 154 642 362\n",
      "1\n",
      "440 0 486 91\n",
      "1\n"
     ]
    },
    {
     "name": "stderr",
     "output_type": "stream",
     "text": [
      "0: 384x640 1 person, 3 cars, 110.5ms\n",
      "Speed: 2.0ms preprocess, 110.5ms inference, 0.0ms postprocess per image at shape (1, 3, 384, 640)\n",
      "\n",
      "0: 384x640 3 cars, 107.8ms\n",
      "Speed: 7.4ms preprocess, 107.8ms inference, 0.0ms postprocess per image at shape (1, 3, 384, 640)\n",
      "\n"
     ]
    },
    {
     "name": "stdout",
     "output_type": "stream",
     "text": [
      "249 231 525 477\n",
      "1\n",
      "876 138 1150 391\n",
      "1\n",
      "414 154 642 362\n",
      "1\n",
      "438 1 486 91\n",
      "1\n",
      "249 231 525 476\n",
      "1\n",
      "871 142 1146 396\n",
      "1\n",
      "413 154 642 362\n",
      "1\n"
     ]
    },
    {
     "name": "stderr",
     "output_type": "stream",
     "text": [
      "0: 384x640 3 cars, 121.9ms\n",
      "Speed: 0.0ms preprocess, 121.9ms inference, 0.0ms postprocess per image at shape (1, 3, 384, 640)\n",
      "\n",
      "0: 384x640 3 cars, 95.6ms\n",
      "Speed: 4.5ms preprocess, 95.6ms inference, 0.0ms postprocess per image at shape (1, 3, 384, 640)\n",
      "\n"
     ]
    },
    {
     "name": "stdout",
     "output_type": "stream",
     "text": [
      "864 146 1144 404\n",
      "1\n",
      "249 231 525 476\n",
      "1\n",
      "414 154 643 362\n",
      "1\n",
      "249 231 525 476\n",
      "1\n",
      "858 147 1138 408\n",
      "1\n",
      "414 154 643 362\n",
      "1\n"
     ]
    },
    {
     "name": "stderr",
     "output_type": "stream",
     "text": [
      "0: 384x640 3 cars, 88.2ms\n",
      "Speed: 0.0ms preprocess, 88.2ms inference, 0.0ms postprocess per image at shape (1, 3, 384, 640)\n",
      "\n",
      "0: 384x640 3 cars, 93.1ms\n",
      "Speed: 1.1ms preprocess, 93.1ms inference, 0.0ms postprocess per image at shape (1, 3, 384, 640)\n",
      "\n"
     ]
    },
    {
     "name": "stdout",
     "output_type": "stream",
     "text": [
      "249 231 525 476\n",
      "1\n",
      "852 147 1134 417\n",
      "1\n",
      "413 154 643 363\n",
      "1\n",
      "249 231 525 477\n",
      "1\n",
      "413 154 642 363\n",
      "1\n",
      "846 148 1130 424\n",
      "1\n"
     ]
    },
    {
     "name": "stderr",
     "output_type": "stream",
     "text": [
      "0: 384x640 3 cars, 89.2ms\n",
      "Speed: 0.0ms preprocess, 89.2ms inference, 0.0ms postprocess per image at shape (1, 3, 384, 640)\n",
      "\n",
      "0: 384x640 3 cars, 101.2ms\n",
      "Speed: 0.0ms preprocess, 101.2ms inference, 0.0ms postprocess per image at shape (1, 3, 384, 640)\n",
      "\n"
     ]
    },
    {
     "name": "stdout",
     "output_type": "stream",
     "text": [
      "249 231 525 477\n",
      "1\n",
      "413 154 642 363\n",
      "1\n",
      "840 153 1129 429\n",
      "1\n",
      "249 231 525 477\n",
      "1\n",
      "413 154 642 363\n",
      "1\n",
      "834 167 1123 437\n",
      "1\n"
     ]
    },
    {
     "name": "stderr",
     "output_type": "stream",
     "text": [
      "0: 384x640 3 cars, 108.3ms\n",
      "Speed: 0.0ms preprocess, 108.3ms inference, 0.0ms postprocess per image at shape (1, 3, 384, 640)\n",
      "\n",
      "0: 384x640 3 cars, 109.2ms\n",
      "Speed: 0.0ms preprocess, 109.2ms inference, 0.0ms postprocess per image at shape (1, 3, 384, 640)\n",
      "\n"
     ]
    },
    {
     "name": "stdout",
     "output_type": "stream",
     "text": [
      "249 232 525 476\n",
      "1\n",
      "413 154 642 363\n",
      "1\n",
      "828 170 1120 443\n",
      "1\n",
      "249 231 525 476\n",
      "1\n",
      "821 178 1115 449\n",
      "1\n",
      "413 154 642 363\n",
      "1\n"
     ]
    },
    {
     "name": "stderr",
     "output_type": "stream",
     "text": [
      "0: 384x640 3 cars, 105.8ms\n",
      "Speed: 0.0ms preprocess, 105.8ms inference, 0.0ms postprocess per image at shape (1, 3, 384, 640)\n",
      "\n",
      "0: 384x640 3 cars, 104.8ms\n",
      "Speed: 0.0ms preprocess, 104.8ms inference, 0.0ms postprocess per image at shape (1, 3, 384, 640)\n",
      "\n"
     ]
    },
    {
     "name": "stdout",
     "output_type": "stream",
     "text": [
      "249 231 525 476\n",
      "1\n",
      "814 182 1109 456\n",
      "1\n",
      "413 154 643 363\n",
      "1\n",
      "249 231 525 476\n",
      "1\n",
      "809 190 1106 465\n",
      "1\n",
      "414 154 642 363\n",
      "1\n"
     ]
    },
    {
     "name": "stderr",
     "output_type": "stream",
     "text": [
      "0: 384x640 3 cars, 108.2ms\n",
      "Speed: 1.8ms preprocess, 108.2ms inference, 0.0ms postprocess per image at shape (1, 3, 384, 640)\n",
      "\n",
      "0: 384x640 3 cars, 106.8ms\n",
      "Speed: 2.7ms preprocess, 106.8ms inference, 0.0ms postprocess per image at shape (1, 3, 384, 640)\n",
      "\n"
     ]
    },
    {
     "name": "stdout",
     "output_type": "stream",
     "text": [
      "249 231 525 476\n",
      "1\n",
      "413 154 642 363\n",
      "1\n",
      "803 196 1101 475\n",
      "1\n",
      "249 231 525 476\n",
      "1\n",
      "796 200 1097 482\n",
      "1\n",
      "414 154 642 363\n",
      "1\n"
     ]
    },
    {
     "name": "stderr",
     "output_type": "stream",
     "text": [
      "0: 384x640 3 cars, 109.4ms\n",
      "Speed: 0.0ms preprocess, 109.4ms inference, 0.0ms postprocess per image at shape (1, 3, 384, 640)\n",
      "\n",
      "0: 384x640 3 cars, 106.0ms\n",
      "Speed: 0.0ms preprocess, 106.0ms inference, 0.0ms postprocess per image at shape (1, 3, 384, 640)\n",
      "\n"
     ]
    },
    {
     "name": "stdout",
     "output_type": "stream",
     "text": [
      "790 203 1092 491\n",
      "1\n",
      "249 231 525 476\n",
      "1\n",
      "414 154 642 363\n",
      "1\n",
      "782 208 1090 494\n",
      "1\n",
      "249 231 525 476\n",
      "1\n",
      "414 154 642 363\n",
      "1\n"
     ]
    },
    {
     "name": "stderr",
     "output_type": "stream",
     "text": [
      "0: 384x640 3 cars, 100.4ms\n",
      "Speed: 2.5ms preprocess, 100.4ms inference, 0.0ms postprocess per image at shape (1, 3, 384, 640)\n",
      "\n",
      "0: 384x640 3 cars, 100.8ms\n",
      "Speed: 0.0ms preprocess, 100.8ms inference, 0.0ms postprocess per image at shape (1, 3, 384, 640)\n",
      "\n"
     ]
    },
    {
     "name": "stdout",
     "output_type": "stream",
     "text": [
      "775 216 1085 501\n",
      "1\n",
      "249 231 525 476\n",
      "1\n",
      "414 154 642 363\n",
      "1\n",
      "249 231 525 476\n",
      "1\n",
      "768 223 1080 508\n",
      "1\n",
      "414 154 643 363\n",
      "1\n"
     ]
    },
    {
     "name": "stderr",
     "output_type": "stream",
     "text": [
      "0: 384x640 3 cars, 116.5ms\n",
      "Speed: 0.0ms preprocess, 116.5ms inference, 0.0ms postprocess per image at shape (1, 3, 384, 640)\n",
      "\n",
      "0: 384x640 3 cars, 94.3ms\n",
      "Speed: 0.0ms preprocess, 94.3ms inference, 0.0ms postprocess per image at shape (1, 3, 384, 640)\n",
      "\n"
     ]
    },
    {
     "name": "stdout",
     "output_type": "stream",
     "text": [
      "762 227 1077 519\n",
      "1\n",
      "249 231 525 476\n",
      "1\n",
      "414 154 643 363\n",
      "1\n",
      "756 231 1073 526\n",
      "1\n",
      "249 231 525 476\n",
      "1\n",
      "414 154 643 363\n",
      "1\n"
     ]
    },
    {
     "name": "stderr",
     "output_type": "stream",
     "text": [
      "0: 384x640 1 person, 3 cars, 101.0ms\n",
      "Speed: 2.1ms preprocess, 101.0ms inference, 0.0ms postprocess per image at shape (1, 3, 384, 640)\n",
      "\n",
      "0: 384x640 2 persons, 3 cars, 110.5ms\n",
      "Speed: 0.0ms preprocess, 110.5ms inference, 0.0ms postprocess per image at shape (1, 3, 384, 640)\n",
      "\n"
     ]
    },
    {
     "name": "stdout",
     "output_type": "stream",
     "text": [
      "249 231 525 476\n",
      "1\n",
      "748 235 1071 535\n",
      "1\n",
      "413 154 643 363\n",
      "1\n",
      "431 1 465 68\n",
      "1\n",
      "249 231 525 476\n",
      "1\n",
      "742 239 1065 541\n",
      "1\n",
      "414 154 643 363\n",
      "1\n",
      "430 1 466 67\n",
      "1\n",
      "468 0 500 59\n",
      "1\n"
     ]
    },
    {
     "name": "stderr",
     "output_type": "stream",
     "text": [
      "0: 384x640 2 persons, 3 cars, 120.0ms\n",
      "Speed: 0.0ms preprocess, 120.0ms inference, 0.0ms postprocess per image at shape (1, 3, 384, 640)\n",
      "\n",
      "0: 384x640 1 person, 3 cars, 108.7ms\n",
      "Speed: 1.4ms preprocess, 108.7ms inference, 0.0ms postprocess per image at shape (1, 3, 384, 640)\n",
      "\n"
     ]
    },
    {
     "name": "stdout",
     "output_type": "stream",
     "text": [
      "734 245 1060 552\n",
      "1\n",
      "249 231 525 476\n",
      "1\n",
      "414 154 642 363\n",
      "1\n",
      "431 1 465 68\n",
      "1\n",
      "466 1 500 74\n",
      "1\n",
      "727 249 1053 559\n",
      "1\n",
      "249 232 525 476\n",
      "1\n",
      "413 154 642 363\n",
      "1\n",
      "465 0 502 83\n",
      "1\n"
     ]
    },
    {
     "name": "stderr",
     "output_type": "stream",
     "text": [
      "0: 384x640 3 cars, 109.7ms\n",
      "Speed: 1.3ms preprocess, 109.7ms inference, 0.0ms postprocess per image at shape (1, 3, 384, 640)\n",
      "\n",
      "0: 384x640 3 cars, 95.5ms\n",
      "Speed: 0.0ms preprocess, 95.5ms inference, 0.0ms postprocess per image at shape (1, 3, 384, 640)\n",
      "\n"
     ]
    },
    {
     "name": "stdout",
     "output_type": "stream",
     "text": [
      "718 259 1047 569\n",
      "1\n",
      "249 232 525 476\n",
      "1\n",
      "414 154 643 363\n",
      "1\n",
      "249 232 525 476\n",
      "1\n",
      "712 265 1042 576\n",
      "1\n",
      "414 154 643 363\n",
      "1\n"
     ]
    },
    {
     "name": "stderr",
     "output_type": "stream",
     "text": [
      "0: 384x640 3 cars, 110.0ms\n",
      "Speed: 0.0ms preprocess, 110.0ms inference, 0.0ms postprocess per image at shape (1, 3, 384, 640)\n",
      "\n",
      "0: 384x640 3 cars, 108.3ms\n",
      "Speed: 1.4ms preprocess, 108.3ms inference, 1.3ms postprocess per image at shape (1, 3, 384, 640)\n",
      "\n"
     ]
    },
    {
     "name": "stdout",
     "output_type": "stream",
     "text": [
      "249 232 525 476\n",
      "1\n",
      "414 154 642 363\n",
      "1\n",
      "703 273 1044 590\n",
      "1\n",
      "249 232 525 476\n",
      "1\n",
      "414 154 642 363\n",
      "1\n",
      "697 281 1035 598\n",
      "1\n"
     ]
    },
    {
     "name": "stderr",
     "output_type": "stream",
     "text": [
      "0: 384x640 1 person, 3 cars, 80.1ms\n",
      "Speed: 7.9ms preprocess, 80.1ms inference, 0.0ms postprocess per image at shape (1, 3, 384, 640)\n",
      "\n",
      "0: 384x640 3 cars, 100.5ms\n",
      "Speed: 1.8ms preprocess, 100.5ms inference, 0.0ms postprocess per image at shape (1, 3, 384, 640)\n",
      "\n"
     ]
    },
    {
     "name": "stdout",
     "output_type": "stream",
     "text": [
      "249 232 525 476\n",
      "1\n",
      "687 284 1029 606\n",
      "1\n",
      "414 154 642 363\n",
      "1\n",
      "434 1 467 67\n",
      "1\n",
      "249 232 525 476\n",
      "1\n",
      "414 154 642 363\n",
      "1\n",
      "667 291 1024 615\n",
      "1\n"
     ]
    },
    {
     "name": "stderr",
     "output_type": "stream",
     "text": [
      "0: 384x640 1 person, 3 cars, 104.9ms\n",
      "Speed: 0.0ms preprocess, 104.9ms inference, 0.0ms postprocess per image at shape (1, 3, 384, 640)\n"
     ]
    },
    {
     "name": "stdout",
     "output_type": "stream",
     "text": [
      "249 232 525 476\n",
      "1\n",
      "661 297 1019 626\n",
      "1\n",
      "414 154 642 363\n",
      "1\n",
      "468 1 513 77\n",
      "1\n"
     ]
    }
   ],
   "source": [
    "cap = cv2.VideoCapture(\"Traffic IP Camera video.mp4\")\n",
    "while True:\n",
    "    frame, image = cap.read()\n",
    "    results = model(image, stream=True)\n",
    "    for res in results:\n",
    "        boxes = res.boxes\n",
    "        for box in boxes:\n",
    "            \n",
    "            # Bounding Box Coordinates:\n",
    "            x1, y1, x2, y2 = box.xyxy[0]\n",
    "            x1, y1, x2, y2 = int(x1), int(y1), int(x2), int(y2) \n",
    "            print(x1, y1, x2, y2)\n",
    "            \n",
    "            # Displaying the rectangel obtained from bounding boxes:\n",
    "            cv2.rectangle(image, (x1, y1), (x2, y2), (255, 0, 255), 2)\n",
    "            confidence = math.ceil((box.conf[0]*100))/100\n",
    "            print(math.ceil(confidence))\n",
    "            \n",
    "            # Displaying confidence and class name for particular bouding box:\n",
    "            classes = int(box.cls[0])\n",
    "            cvzone.putTextRect(image, f\"{confidence} {classNames[classes]}\", (max(0, x1), max(35, y1)), scale=1, thickness=1)\n",
    "            \n",
    "            \n",
    "    cv2.imshow(\"Window\", image)\n",
    "    if cv2.waitKey(1) & 0xFF == ord('q'):\n",
    "        break\n",
    "cap.release()\n",
    "cv2.destroyAllWindows()"
   ]
  }
 ],
 "metadata": {
  "kernelspec": {
   "display_name": "Python 3 (ipykernel)",
   "language": "python",
   "name": "python3"
  },
  "language_info": {
   "codemirror_mode": {
    "name": "ipython",
    "version": 3
   },
   "file_extension": ".py",
   "mimetype": "text/x-python",
   "name": "python",
   "nbconvert_exporter": "python",
   "pygments_lexer": "ipython3",
   "version": "3.12.4"
  }
 },
 "nbformat": 4,
 "nbformat_minor": 5
}
