{
 "cells": [
  {
   "cell_type": "code",
   "execution_count": 124,
   "id": "d4a4baa7-8b71-4f0f-921a-d92ae1ab3fb4",
   "metadata": {},
   "outputs": [
    {
     "name": "stdout",
     "output_type": "stream",
     "text": [
      "Collecting pypandoc\n",
      "  Downloading pypandoc-1.13-py3-none-any.whl.metadata (16 kB)\n",
      "Downloading pypandoc-1.13-py3-none-any.whl (21 kB)\n",
      "Installing collected packages: pypandoc\n",
      "Successfully installed pypandoc-1.13\n"
     ]
    }
   ],
   "source": [
    "!pip install pypandoc"
   ]
  },
  {
   "cell_type": "code",
   "execution_count": 2,
   "id": "4ac08c9a-0b6d-43a3-ab6b-09abd8ab7b03",
   "metadata": {},
   "outputs": [],
   "source": [
    "# I have modified code a little bit so you can see what's really happening in each cell.\n",
    "\n",
    "import numpy as np\n",
    "import tensorflow as tf\n",
    "from tensorflow.keras import layers, datasets, models\n",
    "from matplotlib import pyplot as plt"
   ]
  },
  {
   "cell_type": "code",
   "execution_count": 4,
   "id": "719c154a-7f06-4964-af43-136da5c3b8b0",
   "metadata": {},
   "outputs": [],
   "source": [
    "(X_train, y_train), (X_test, y_test) = datasets.cifar10.load_data()"
   ]
  },
  {
   "cell_type": "code",
   "execution_count": 6,
   "id": "dcbe45be-4bc3-44f1-87e3-e89b308e0456",
   "metadata": {},
   "outputs": [
    {
     "name": "stdout",
     "output_type": "stream",
     "text": [
      "Training Instances: (50000, 32, 32, 3)\n",
      "Testing Instances: (10000, 32, 32, 3)\n"
     ]
    }
   ],
   "source": [
    "# Check number of training and testing fraction.\n",
    "\n",
    "print(f'Training Instances: {X_train.shape}')\n",
    "print(f'Testing Instances: {X_test.shape}')"
   ]
  },
  {
   "cell_type": "code",
   "execution_count": 8,
   "id": "b452cfa9-9708-46cf-83d2-45e1f9a4ddc7",
   "metadata": {},
   "outputs": [
    {
     "data": {
      "image/png": "[encoded data removed]",
      "text/plain": [
       "<Figure size 700x300 with 3 Axes>"
      ]
     },
     "metadata": {},
     "output_type": "display_data"
    }
   ],
   "source": [
    "# Let's look at some examples\n",
    "\n",
    "plt.figure(figsize=[7, 3])\n",
    "plt.subplot(131);plt.imshow(X_train[10]);plt.axis('off');\n",
    "plt.subplot(132);plt.imshow(X_train[15]);plt.axis('off');\n",
    "plt.subplot(133);plt.imshow(X_train[19]);plt.axis('off');"
   ]
  },
  {
   "cell_type": "code",
   "execution_count": 12,
   "id": "01e6fe28-2da1-412f-89fe-0c0c81f0f137",
   "metadata": {},
   "outputs": [
    {
     "data": {
      "text/plain": [
       "array([[[ 59,  62,  63],\n",
       "        [ 43,  46,  45],\n",
       "        [ 50,  48,  43],\n",
       "        ...,\n",
       "        [158, 132, 108],\n",
       "        [152, 125, 102],\n",
       "        [148, 124, 103]],\n",
       "\n",
       "       [[ 16,  20,  20],\n",
       "        [  0,   0,   0],\n",
       "        [ 18,   8,   0],\n",
       "        ...,\n",
       "        [123,  88,  55],\n",
       "        [119,  83,  50],\n",
       "        [122,  87,  57]],\n",
       "\n",
       "       [[ 25,  24,  21],\n",
       "        [ 16,   7,   0],\n",
       "        [ 49,  27,   8],\n",
       "        ...,\n",
       "        [118,  84,  50],\n",
       "        [120,  84,  50],\n",
       "        [109,  73,  42]],\n",
       "\n",
       "       ...,\n",
       "\n",
       "       [[208, 170,  96],\n",
       "        [201, 153,  34],\n",
       "        [198, 161,  26],\n",
       "        ...,\n",
       "        [160, 133,  70],\n",
       "        [ 56,  31,   7],\n",
       "        [ 53,  34,  20]],\n",
       "\n",
       "       [[180, 139,  96],\n",
       "        [173, 123,  42],\n",
       "        [186, 144,  30],\n",
       "        ...,\n",
       "        [184, 148,  94],\n",
       "        [ 97,  62,  34],\n",
       "        [ 83,  53,  34]],\n",
       "\n",
       "       [[177, 144, 116],\n",
       "        [168, 129,  94],\n",
       "        [179, 142,  87],\n",
       "        ...,\n",
       "        [216, 184, 140],\n",
       "        [151, 118,  84],\n",
       "        [123,  92,  72]]], dtype=uint8)"
      ]
     },
     "execution_count": 12,
     "metadata": {},
     "output_type": "execute_result"
    }
   ],
   "source": [
    "# Have a look at pixel values of one example let say:\n",
    "\n",
    "X_train[0] "
   ]
  },
  {
   "cell_type": "code",
   "execution_count": 10,
   "id": "1a11629b-4076-4c2f-b755-99890b6bdf4b",
   "metadata": {},
   "outputs": [],
   "source": [
    "# Normalize those pixel values so that all values are between 0 and 1 (for models to work faster).\n",
    "\n",
    "X_train = X_train/255\n",
    "X_test = X_test/255"
   ]
  },
  {
   "cell_type": "code",
   "execution_count": 38,
   "id": "67ba90ab-071f-4811-8aa9-581c7f5e5229",
   "metadata": {},
   "outputs": [
    {
     "name": "stderr",
     "output_type": "stream",
     "text": [
      "C:\\Users\\lenovo\\anaconda3\\Lib\\site-packages\\keras\\src\\layers\\reshaping\\flatten.py:37: UserWarning: Do not pass an `input_shape`/`input_dim` argument to a layer. When using Sequential models, prefer using an `Input(shape)` object as the first layer in the model instead.\n",
      "  super().__init__(**kwargs)\n"
     ]
    },
    {
     "name": "stdout",
     "output_type": "stream",
     "text": [
      "Epoch 1/5\n",
      "\u001b[1m1563/1563\u001b[0m \u001b[32m━━━━━━━━━━━━━━━━━━━━\u001b[0m\u001b[37m\u001b[0m \u001b[1m51s\u001b[0m 31ms/step - accuracy: 0.3000 - loss: 1.9339\n",
      "Epoch 2/5\n",
      "\u001b[1m1563/1563\u001b[0m \u001b[32m━━━━━━━━━━━━━━━━━━━━\u001b[0m\u001b[37m\u001b[0m \u001b[1m49s\u001b[0m 31ms/step - accuracy: 0.4215 - loss: 1.6456\n",
      "Epoch 3/5\n",
      "\u001b[1m1563/1563\u001b[0m \u001b[32m━━━━━━━━━━━━━━━━━━━━\u001b[0m\u001b[37m\u001b[0m \u001b[1m49s\u001b[0m 31ms/step - accuracy: 0.4563 - loss: 1.5496\n",
      "Epoch 4/5\n",
      "\u001b[1m1563/1563\u001b[0m \u001b[32m━━━━━━━━━━━━━━━━━━━━\u001b[0m\u001b[37m\u001b[0m \u001b[1m49s\u001b[0m 31ms/step - accuracy: 0.4782 - loss: 1.4846\n",
      "Epoch 5/5\n",
      "\u001b[1m1563/1563\u001b[0m \u001b[32m━━━━━━━━━━━━━━━━━━━━\u001b[0m\u001b[37m\u001b[0m \u001b[1m49s\u001b[0m 31ms/step - accuracy: 0.4980 - loss: 1.4341\n"
     ]
    },
    {
     "data": {
      "text/plain": [
       "<keras.src.callbacks.history.History at 0x2384cccc410>"
      ]
     },
     "execution_count": 38,
     "metadata": {},
     "output_type": "execute_result"
    }
   ],
   "source": [
    "# First we'll try a simple neural networks to see if they perform better?\n",
    "\n",
    "ann = models.Sequential([\n",
    "        layers.Flatten(input_shape=(32,32,3)),\n",
    "        layers.Dense(units=3000, activation='relu'),\n",
    "        layers.Dense(units=1000, activation='relu'),\n",
    "        layers.Dense(units=10, activation='sigmoid')\n",
    "])\n",
    "ann.compile(optimizer='SGD', # Gradient Descent optimizer\n",
    "           loss='sparse_categorical_crossentropy', # Most values maybe zero and only ground truth \n",
    "                                                   # will be near 1, that's why sparse loss.\n",
    "           metrics=['accuracy'])\n",
    "ann.fit(X_train, y_train, epochs=5)"
   ]
  },
  {
   "cell_type": "code",
   "execution_count": 40,
   "id": "8e3a4f94-66a1-4e9c-9161-efa98fc7ddca",
   "metadata": {},
   "outputs": [
    {
     "name": "stdout",
     "output_type": "stream",
     "text": [
      "\u001b[1m313/313\u001b[0m \u001b[32m━━━━━━━━━━━━━━━━━━━━\u001b[0m\u001b[37m\u001b[0m \u001b[1m4s\u001b[0m 11ms/step - accuracy: 0.4794 - loss: 1.4670\n"
     ]
    },
    {
     "data": {
      "text/plain": [
       "[1.472495675086975, 0.4733999967575073]"
      ]
     },
     "execution_count": 40,
     "metadata": {},
     "output_type": "execute_result"
    }
   ],
   "source": [
    "ann.evaluate(X_test, y_test)"
   ]
  },
  {
   "cell_type": "code",
   "execution_count": 42,
   "id": "cf01a3a4-b8c7-48ac-be4a-8cbac43ea0a3",
   "metadata": {},
   "outputs": [
    {
     "name": "stdout",
     "output_type": "stream",
     "text": [
      "\u001b[1m313/313\u001b[0m \u001b[32m━━━━━━━━━━━━━━━━━━━━\u001b[0m\u001b[37m\u001b[0m \u001b[1m4s\u001b[0m 11ms/step\n",
      "Classification Report\n",
      "\n",
      "                precision    recall  f1-score   support\n",
      "\n",
      "           0       0.58      0.48      0.53      1000\n",
      "           1       0.51      0.68      0.58      1000\n",
      "           2       0.52      0.13      0.21      1000\n",
      "           3       0.37      0.24      0.29      1000\n",
      "           4       0.37      0.56      0.44      1000\n",
      "           5       0.37      0.44      0.40      1000\n",
      "           6       0.54      0.56      0.55      1000\n",
      "           7       0.67      0.44      0.53      1000\n",
      "           8       0.45      0.78      0.57      1000\n",
      "           9       0.54      0.43      0.48      1000\n",
      "\n",
      "    accuracy                           0.47     10000\n",
      "   macro avg       0.49      0.47      0.46     10000\n",
      "weighted avg       0.49      0.47      0.46     10000\n",
      "\n"
     ]
    }
   ],
   "source": [
    "from sklearn.metrics import classification_report\n",
    "y_pred_ann = ann.predict(X_test)\n",
    "y_pred_classes = [np.argmax(item) for item in y_pred_ann]\n",
    "print('Classification Report\\n\\n ',classification_report(y_test,y_pred_classes))"
   ]
  },
  {
   "cell_type": "code",
   "execution_count": 22,
   "id": "c12025b0-9648-4e6e-9b6b-ad88f4884967",
   "metadata": {},
   "outputs": [
    {
     "name": "stdout",
     "output_type": "stream",
     "text": [
      "Epoch 1/10\n",
      "\u001b[1m1563/1563\u001b[0m \u001b[32m━━━━━━━━━━━━━━━━━━━━\u001b[0m\u001b[37m\u001b[0m \u001b[1m39s\u001b[0m 22ms/step - accuracy: 0.3654 - loss: 1.7390\n",
      "Epoch 2/10\n",
      "\u001b[1m1563/1563\u001b[0m \u001b[32m━━━━━━━━━━━━━━━━━━━━\u001b[0m\u001b[37m\u001b[0m \u001b[1m33s\u001b[0m 21ms/step - accuracy: 0.5935 - loss: 1.1560\n",
      "Epoch 3/10\n",
      "\u001b[1m1563/1563\u001b[0m \u001b[32m━━━━━━━━━━━━━━━━━━━━\u001b[0m\u001b[37m\u001b[0m \u001b[1m35s\u001b[0m 22ms/step - accuracy: 0.6570 - loss: 0.9851\n",
      "Epoch 4/10\n",
      "\u001b[1m1563/1563\u001b[0m \u001b[32m━━━━━━━━━━━━━━━━━━━━\u001b[0m\u001b[37m\u001b[0m \u001b[1m35s\u001b[0m 22ms/step - accuracy: 0.6832 - loss: 0.9168\n",
      "Epoch 5/10\n",
      "\u001b[1m1563/1563\u001b[0m \u001b[32m━━━━━━━━━━━━━━━━━━━━\u001b[0m\u001b[37m\u001b[0m \u001b[1m37s\u001b[0m 24ms/step - accuracy: 0.7037 - loss: 0.8515\n",
      "Epoch 6/10\n",
      "\u001b[1m1563/1563\u001b[0m \u001b[32m━━━━━━━━━━━━━━━━━━━━\u001b[0m\u001b[37m\u001b[0m \u001b[1m37s\u001b[0m 23ms/step - accuracy: 0.7228 - loss: 0.7946\n",
      "Epoch 7/10\n",
      "\u001b[1m1563/1563\u001b[0m \u001b[32m━━━━━━━━━━━━━━━━━━━━\u001b[0m\u001b[37m\u001b[0m \u001b[1m37s\u001b[0m 24ms/step - accuracy: 0.7319 - loss: 0.7600\n",
      "Epoch 8/10\n",
      "\u001b[1m1563/1563\u001b[0m \u001b[32m━━━━━━━━━━━━━━━━━━━━\u001b[0m\u001b[37m\u001b[0m \u001b[1m37s\u001b[0m 24ms/step - accuracy: 0.7535 - loss: 0.7068\n",
      "Epoch 9/10\n",
      "\u001b[1m1563/1563\u001b[0m \u001b[32m━━━━━━━━━━━━━━━━━━━━\u001b[0m\u001b[37m\u001b[0m \u001b[1m37s\u001b[0m 24ms/step - accuracy: 0.7636 - loss: 0.6744\n",
      "Epoch 10/10\n",
      "\u001b[1m1563/1563\u001b[0m \u001b[32m━━━━━━━━━━━━━━━━━━━━\u001b[0m\u001b[37m\u001b[0m \u001b[1m37s\u001b[0m 24ms/step - accuracy: 0.7737 - loss: 0.6424\n"
     ]
    },
    {
     "data": {
      "text/plain": [
       "<keras.src.callbacks.history.History at 0x26a4b9e4470>"
      ]
     },
     "execution_count": 22,
     "metadata": {},
     "output_type": "execute_result"
    }
   ],
   "source": [
    "# Now let's try the CNN to see if they perform better than simple NN.\n",
    "from datetime import datetime\n",
    "import os\n",
    "cnn = models.Sequential([\n",
    "    # Convolutional Layers:\n",
    "    layers.Conv2D(filters=50, kernel_size = (3,3), activation='relu', input_shape=(32,32,3)),\n",
    "    layers.MaxPooling2D((2,2)),\n",
    "    layers.Conv2D(filters=64, kernel_size = (3,3), activation='relu'),\n",
    "    layers.MaxPooling2D((2,2)),\n",
    "    # Dense Layers:\n",
    "    layers.Flatten(),\n",
    "    layers.Dense(units=70, activation='relu'),\n",
    "    layers.Dense(units=10, activation='softmax')\n",
    "])\n",
    "current_dir = os.getcwd()\n",
    "checkpoint_filepath = os.path.join(current_dir, 'ckpt', 'checkpoint.model.keras')\n",
    "model_checkpoint_callback = keras.callbacks.ModelCheckpoint(\n",
    "    filepath=checkpoint_filepath,\n",
    "    monitor='val_accuracy',\n",
    "    mode='max',\n",
    "    save_best_only=True)\n",
    "cnn.compile(optimizer='adam',\n",
    "             loss='sparse_categorical_crossentropy',\n",
    "             metrics=['accuracy'])\n",
    "log_dir1 = \"logs/\" + datetime.now().strftime(\"%Y%m%d-%H%M%S\")\n",
    "tensorboard_callback = tf.keras.callbacks.TensorBoard(log_dir=log_dir1)\n",
    "cnn.fit(X_train, y_train, \n",
    "        epochs=10, \n",
    "        callbacks=[tensorboard_callback])"
   ]
  },
  {
   "cell_type": "code",
   "execution_count": 48,
   "id": "196b9acc-ecc2-46d3-85a9-64a35a385a07",
   "metadata": {},
   "outputs": [
    {
     "name": "stdout",
     "output_type": "stream",
     "text": [
      "\u001b[1m313/313\u001b[0m \u001b[32m━━━━━━━━━━━━━━━━━━━━\u001b[0m\u001b[37m\u001b[0m \u001b[1m3s\u001b[0m 9ms/step - accuracy: 0.6939 - loss: 0.9389\n"
     ]
    },
    {
     "data": {
      "text/plain": [
       "[0.9506763815879822, 0.6922000050544739]"
      ]
     },
     "execution_count": 48,
     "metadata": {},
     "output_type": "execute_result"
    }
   ],
   "source": [
    "cnn.evaluate(X_test, y_test)"
   ]
  },
  {
   "cell_type": "code",
   "execution_count": 50,
   "id": "cc6c643c-aed3-4abe-8fc9-7894c90cf2e4",
   "metadata": {},
   "outputs": [
    {
     "name": "stdout",
     "output_type": "stream",
     "text": [
      "\u001b[1m313/313\u001b[0m \u001b[32m━━━━━━━━━━━━━━━━━━━━\u001b[0m\u001b[37m\u001b[0m \u001b[1m3s\u001b[0m 8ms/step\n"
     ]
    }
   ],
   "source": [
    "y_pred_cnn = cnn.predict(X_test)\n",
    "y_classes_cnn = [np.argmax(element) for element in y_pred_cnn]"
   ]
  },
  {
   "cell_type": "code",
   "execution_count": 129,
   "id": "93c88fd0-4dfb-4b1a-93d5-0a03827b780d",
   "metadata": {},
   "outputs": [
    {
     "name": "stdout",
     "output_type": "stream",
     "text": [
      "Compare ground truth labels and predicted ones:\n",
      "______________________________________________\n",
      "[[3]\n",
      " [8]\n",
      " [8]\n",
      " [0]\n",
      " [6]\n",
      " [6]\n",
      " [1]\n",
      " [6]\n",
      " [3]\n",
      " [1]]\n",
      "___________________________________________\n",
      "[3, 8, 8, 0, 4, 7, 1, 6, 3, 1]\n",
      "___________________________________________\n",
      "CNN prediction:\n",
      " 8 corrected counts out of total 10 counts.\n",
      "___________________________________________\n"
     ]
    }
   ],
   "source": [
    "# CNN Correct Predictions.\n",
    "\n",
    "print('Compare ground truth labels and predicted ones:')\n",
    "print('_'*46)\n",
    "print(y_test[:10])\n",
    "print('_'*43)\n",
    "print(y_classes_cnn[:10])\n",
    "print('_'*43)\n",
    "\n",
    "\n",
    "corrected_counts=0\n",
    "total_counts=0\n",
    "for i in range(10):\n",
    "    total_counts+=1\n",
    "    if y_test[i]==y_classes_cnn[i]:\n",
    "        corrected_counts+=1\n",
    "    else:\n",
    "        pass\n",
    "print(f'CNN prediction:\\n {corrected_counts} corrected counts out of total {total_counts} counts.')\n",
    "print('_'*43)"
   ]
  },
  {
   "cell_type": "code",
   "execution_count": 131,
   "id": "cd9d2d84-5275-494a-810f-4c05d9f16203",
   "metadata": {},
   "outputs": [
    {
     "name": "stdout",
     "output_type": "stream",
     "text": [
      "Compare ground truth labels and predicted ones:\n",
      "______________________________________________\n",
      "[[3]\n",
      " [8]\n",
      " [8]\n",
      " [0]\n",
      " [6]\n",
      " [6]\n",
      " [1]\n",
      " [6]\n",
      " [3]\n",
      " [1]]\n",
      "___________________________________________\n",
      "[3, 8, 8, 8, 4, 6, 3, 6, 4, 1]\n",
      "___________________________________________\n",
      "ANN prediction:\n",
      " 6 corrected counts out of total 10 counts.\n",
      "___________________________________________\n"
     ]
    }
   ],
   "source": [
    "# ANN Correct Predictions.\n",
    "\n",
    "print('Compare ground truth labels and predicted ones:')\n",
    "print('_'*46)\n",
    "print(y_test[:10])\n",
    "print('_'*43)\n",
    "print(y_pred_classes[:10])\n",
    "print('_'*43)\n",
    "\n",
    "\n",
    "corrected_counts=0\n",
    "total_counts=0\n",
    "for i in range(10):\n",
    "    total_counts+=1\n",
    "    if y_test[i]==y_pred_classes[i]:\n",
    "        corrected_counts+=1\n",
    "    else:\n",
    "        pass\n",
    "print(f'ANN prediction:\\n {corrected_counts} corrected counts out of total {total_counts} counts.')\n",
    "print('_'*43)"
   ]
  },
  {
   "cell_type": "markdown",
   "id": "bdb1afc4-8f43-4af0-a2c1-da0a89b1ddff",
   "metadata": {},
   "source": [
    "## CNN performed relatively bit better than simple NN."
   ]
  }
 ],
 "metadata": {
  "kernelspec": {
   "display_name": "Python 3 (ipykernel)",
   "language": "python",
   "name": "python3"
  },
  "language_info": {
   "codemirror_mode": {
    "name": "ipython",
    "version": 3
   },
   "file_extension": ".py",
   "mimetype": "text/x-python",
   "name": "python",
   "nbconvert_exporter": "python",
   "pygments_lexer": "ipython3",
   "version": "3.12.4"
  }
 },
 "nbformat": 4,
 "nbformat_minor": 5
}
